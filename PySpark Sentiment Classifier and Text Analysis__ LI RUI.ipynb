{
 "cells": [
  {
   "cell_type": "markdown",
   "metadata": {},
   "source": [
    "# 目录：\n"
   ]
  },
  {
   "cell_type": "markdown",
   "metadata": {},
   "source": [
    "#### 1.导入评论数据"
   ]
  },
  {
   "cell_type": "markdown",
   "metadata": {},
   "source": [
    "#### 2.导入弹幕数据"
   ]
  },
  {
   "cell_type": "markdown",
   "metadata": {},
   "source": [
    "#### 3.利用电影评论与评分构造分类器"
   ]
  },
  {
   "cell_type": "markdown",
   "metadata": {},
   "source": [
    "#### 4.使用该分类器对评论进行分类"
   ]
  },
  {
   "cell_type": "markdown",
   "metadata": {},
   "source": [
    "#### 5.汇总评分、合并行、合并视频数据 "
   ]
  },
  {
   "cell_type": "markdown",
   "metadata": {},
   "source": [
    "#### 6.情感分数与播放量的可视化"
   ]
  },
  {
   "cell_type": "markdown",
   "metadata": {},
   "source": [
    "#### 7.线性回归"
   ]
  },
  {
   "cell_type": "markdown",
   "metadata": {},
   "source": [
    "# 1.导入评论数据"
   ]
  },
  {
   "cell_type": "code",
   "execution_count": 1,
   "metadata": {},
   "outputs": [
    {
     "name": "stdout",
     "output_type": "stream",
     "text": [
      "DataFrame[video_code: bigint, mess_age: string, ctime: string]\n"
     ]
    },
    {
     "data": {
      "text/plain": [
       "[Row(video_code=14245610, mess_age='第一次前排激动\\\\\\\\≧▽≦/', ctime='2017-09-08 18:36:47'),\n",
       " Row(video_code=14245612, mess_age='视频不一样，但是音乐重了。。。\\\\nav9555758', ctime='2017-09-07 15:36:24'),\n",
       " Row(video_code=14245614, mess_age='第三（￣▽￣）', ctime='2017-09-09 22:33:57')]"
      ]
     },
     "execution_count": 1,
     "metadata": {},
     "output_type": "execute_result"
    }
   ],
   "source": [
    "from pyspark.sql import Row\n",
    "import datetime\n",
    "datetimeformat = \" '%Y-%m-%d %H:%M:%S'\"\n",
    "# datetime.datetime.strptime(string_date, dateformat)\n",
    "sc = spark.sparkContext\n",
    "\n",
    "# Load a text file and convert each line to a Row.\n",
    "lines = sc.textFile(\"bilireply.txt\")\n",
    "parts = lines.map(lambda l: l.split(\",\"))\n",
    "# reply = parts.map(lambda p: Row(url,video_code,page,rpid,oid,mid,parent,root,co_unt,rcount,floor,ctime,love,uname,sex,sign,rank,current_level,mess_age,plat,device,crawl_time)))\n",
    "# reply = parts.map(lambda p: Row(url=p[0],video_code=int(p[1]),page=p[2],rpid=p[3],oid=p[4],mid=p[5],parent=p[6],root=p[7],co_unt=p[8],rcount=p[9],floor=p[10],ctime=datetime.datetime.strptime((p[11]),datetimeformat),love=int(p[12]),uname=p[13],sex=p[14],sign=p[15],rank=p[16],current_level=p[17],mess_age=p[18],plat=p[19],device=p[20],crawl_time=p[21]))\n",
    "reply = parts.map(lambda p: Row(url=p[0],video_code=int(p[1]),page=p[2],rpid=p[3],oid=p[4],mid=p[5],parent=p[6],root=p[7],co_unt=p[8],rcount=p[9],floor=p[10],ctime=str(p[11])[2:-1],love=int(p[12]),uname=p[13],sex=p[14],sign=p[15],rank=p[16],current_level=p[17],mess_age=str(p[18])[2:-1],plat=p[19],device=p[20],crawl_time=p[21]))\n",
    "# ((url,int(video_code),page,rpid,oid,mid,parent,root,co_unt,rcount,floor,ctime,love,uname,sex,sign,rank,current_level,mess_age,plat,device,crawl_time))\n",
    "df = spark.createDataFrame(reply)\n",
    "df.createOrReplaceTempView(\"reply\")\n",
    "ReplyDF = spark.sql(\"select video_code,mess_age,ctime from reply order by video_code\")\n",
    "print(ReplyDF)\n",
    "ReplyDF.take(3)"
   ]
  },
  {
   "cell_type": "code",
   "execution_count": 2,
   "metadata": {},
   "outputs": [
    {
     "name": "stdout",
     "output_type": "stream",
     "text": [
      "+----------+--------------------+-------------------+\n",
      "|video_code|            mess_age|              ctime|\n",
      "+----------+--------------------+-------------------+\n",
      "|  14245610|       第一次前排激动\\\\≧▽≦/|2017-09-08 18:36:47|\n",
      "|  14245612|视频不一样，但是音乐重了。。。\\n...|2017-09-07 15:36:24|\n",
      "|  14245614|     up可以的，加油！������|2017-09-07 20:07:52|\n",
      "|  14245614|                我第一喵|2017-09-07 17:46:28|\n",
      "|  14245614|             第三（￣▽￣）|2017-09-09 22:33:57|\n",
      "|  14245615|     打这些没人看的呀，还不如活动图|2017-09-07 18:33:00|\n",
      "|  14245615|                 ？？？|2017-09-07 18:18:32|\n",
      "|  14245615|自己穿护盾衣，基友轻音，关键是一定...|2017-09-07 20:52:16|\n",
      "|  14245619|           大家怎么知道行程的|2017-09-09 20:41:20|\n",
      "|  14245619|         哥哥私底下很爱穿衬衫啊|2017-09-09 23:24:22|\n",
      "|  14245619|              弟弟真的高。|2017-09-08 03:13:54|\n",
      "|  14245619|一黑一白可以可以可以很配�����...|2017-09-09 02:20:51|\n",
      "|  14245619|             啊啊啊，都在啊|2017-09-09 13:23:13|\n",
      "|  14245620|        穷人表示我就用的起820|2017-09-09 12:18:52|\n",
      "|  14245620|              惨案现场……|2017-09-07 19:12:15|\n",
      "|  14245624|               减肥视频！|2017-09-07 15:44:45|\n",
      "|  14245625|总觉得这个完全是和自杀难度Boku...|2017-09-07 21:50:26|\n",
      "|  14245625|   这个铺面简直不是给人玩的.....|2017-09-07 18:14:02|\n",
      "|  14245625|               超神的谱子|2017-09-07 18:00:36|\n",
      "|  14245625|            千手观音.flv|2017-09-07 22:06:42|\n",
      "+----------+--------------------+-------------------+\n",
      "only showing top 20 rows\n",
      "\n"
     ]
    }
   ],
   "source": [
    "ReplyDF.show()"
   ]
  },
  {
   "cell_type": "markdown",
   "metadata": {},
   "source": [
    "  "
   ]
  },
  {
   "cell_type": "code",
   "execution_count": 3,
   "metadata": {
    "scrolled": true
   },
   "outputs": [
    {
     "data": {
      "text/html": [
       "<div>\n",
       "<style>\n",
       "    .dataframe thead tr:only-child th {\n",
       "        text-align: right;\n",
       "    }\n",
       "\n",
       "    .dataframe thead th {\n",
       "        text-align: left;\n",
       "    }\n",
       "\n",
       "    .dataframe tbody tr th {\n",
       "        vertical-align: top;\n",
       "    }\n",
       "</style>\n",
       "<table border=\"1\" class=\"dataframe\">\n",
       "  <thead>\n",
       "    <tr style=\"text-align: right;\">\n",
       "      <th></th>\n",
       "      <th>video_code</th>\n",
       "      <th>mess_age</th>\n",
       "      <th>ctime</th>\n",
       "    </tr>\n",
       "  </thead>\n",
       "  <tbody>\n",
       "    <tr>\n",
       "      <th>0</th>\n",
       "      <td>14245610</td>\n",
       "      <td>第一次前排激动\\\\≧▽≦/</td>\n",
       "      <td>2017-09-08 18:36:47</td>\n",
       "    </tr>\n",
       "    <tr>\n",
       "      <th>1</th>\n",
       "      <td>14245612</td>\n",
       "      <td>视频不一样，但是音乐重了。。。\\nav9555758</td>\n",
       "      <td>2017-09-07 15:36:24</td>\n",
       "    </tr>\n",
       "    <tr>\n",
       "      <th>2</th>\n",
       "      <td>14245614</td>\n",
       "      <td>第三（￣▽￣）</td>\n",
       "      <td>2017-09-09 22:33:57</td>\n",
       "    </tr>\n",
       "    <tr>\n",
       "      <th>3</th>\n",
       "      <td>14245614</td>\n",
       "      <td>up可以的，加油！������</td>\n",
       "      <td>2017-09-07 20:07:52</td>\n",
       "    </tr>\n",
       "    <tr>\n",
       "      <th>4</th>\n",
       "      <td>14245614</td>\n",
       "      <td>我第一喵</td>\n",
       "      <td>2017-09-07 17:46:28</td>\n",
       "    </tr>\n",
       "  </tbody>\n",
       "</table>\n",
       "</div>"
      ],
      "text/plain": [
       "   video_code                    mess_age                ctime\n",
       "0    14245610               第一次前排激动\\\\≧▽≦/  2017-09-08 18:36:47\n",
       "1    14245612  视频不一样，但是音乐重了。。。\\nav9555758  2017-09-07 15:36:24\n",
       "2    14245614                     第三（￣▽￣）  2017-09-09 22:33:57\n",
       "3    14245614             up可以的，加油！������  2017-09-07 20:07:52\n",
       "4    14245614                        我第一喵  2017-09-07 17:46:28"
      ]
     },
     "execution_count": 3,
     "metadata": {},
     "output_type": "execute_result"
    }
   ],
   "source": [
    "ReplyDF.toPandas().head()      #ReplyDF  videoDF  DanmuDF   rateDocument\n",
    "# videoDF.printSchema()\n",
    "# df.describe(['baths', 'beds','price','sqft']).show()  #df is dataframe, pandaDa or RDD ?\n",
    "# ReplyDF.toDF().describe().show() \n",
    "# rateDocument.toDF().toPandas().describe('_1')"
   ]
  },
  {
   "cell_type": "code",
   "execution_count": 4,
   "metadata": {
    "collapsed": true
   },
   "outputs": [],
   "source": [
    "# schemaVideo.printSchema()"
   ]
  },
  {
   "cell_type": "markdown",
   "metadata": {
    "collapsed": true
   },
   "source": [
    "# 2.导入弹幕数据"
   ]
  },
  {
   "cell_type": "code",
   "execution_count": 5,
   "metadata": {},
   "outputs": [
    {
     "name": "stdout",
     "output_type": "stream",
     "text": [
      "DataFrame[video_code: bigint, mess_age: string, ctime: string]\n"
     ]
    },
    {
     "data": {
      "text/plain": [
       "[Row(video_code=14245605, mess_age='什么操作', ctime='2017-09-08 05:02'),\n",
       " Row(video_code=14245605, mess_age='锅救了你一命', ctime='2017-09-08 04:41'),\n",
       " Row(video_code=14245605, mess_age='好皮啊', ctime='2017-09-08 05:02')]"
      ]
     },
     "execution_count": 5,
     "metadata": {},
     "output_type": "execute_result"
    }
   ],
   "source": [
    "# Load a text file and convert each line to a Row.\n",
    "lines = sc.textFile(\"bilidanmu.txt\")\n",
    "parts = lines.map(lambda l: l.split(\",\"))\n",
    "danmu = parts.filter(lambda line : len(line)==14).map(lambda p: Row(video_url=p[0],video_code=int(p[1]),cid=p[2],posit=p[3],mess_age=str(p[4])[2:-1],ctime=str(p[5])[2:-1],other_index_1=p[6],other_index_2=p[7],other_index_3=p[8],other_index_4=p[9],other_index_5=p[10],other_index_6=p[11],other_index_7=p[12],crawl_time=p[13]))\n",
    "# danmu_list.append((video_url,int(video_code),int(cid),float(posit),content,da_te,float(other_index_1),int(other_index_2),int(other_index_3),int(other_index_4),int(other_index_5),other_index_6,int(other_index_7),crawl_time))\n",
    "\n",
    "danmudf = spark.createDataFrame(danmu)\n",
    "danmudf.createOrReplaceTempView(\"danmu\")\n",
    "DanmuDF = spark.sql(\"select video_code,mess_age,ctime from danmu order by video_code\")\n",
    "print(DanmuDF)\n",
    "DanmuDF.take(3)\n"
   ]
  },
  {
   "cell_type": "code",
   "execution_count": 6,
   "metadata": {
    "collapsed": true
   },
   "outputs": [],
   "source": [
    "# rateDocument.toDF().toPandas().head()"
   ]
  },
  {
   "cell_type": "markdown",
   "metadata": {},
   "source": [
    "# 3.利用电影评论与评分构造分类器"
   ]
  },
  {
   "cell_type": "code",
   "execution_count": 7,
   "metadata": {
    "scrolled": false
   },
   "outputs": [
    {
     "data": {
      "text/html": [
       "<div>\n",
       "<style>\n",
       "    .dataframe thead tr:only-child th {\n",
       "        text-align: right;\n",
       "    }\n",
       "\n",
       "    .dataframe thead th {\n",
       "        text-align: left;\n",
       "    }\n",
       "\n",
       "    .dataframe tbody tr th {\n",
       "        vertical-align: top;\n",
       "    }\n",
       "</style>\n",
       "<table border=\"1\" class=\"dataframe\">\n",
       "  <thead>\n",
       "    <tr style=\"text-align: right;\">\n",
       "      <th></th>\n",
       "      <th>_1</th>\n",
       "      <th>_2</th>\n",
       "    </tr>\n",
       "  </thead>\n",
       "  <tbody>\n",
       "    <tr>\n",
       "      <th>0</th>\n",
       "      <td>5</td>\n",
       "      <td>在德国影院看的，字幕放完之后有彩蛋～先说两句题外话，算是引子吧。生活在德国看英语原声电影不容...</td>\n",
       "    </tr>\n",
       "    <tr>\n",
       "      <th>1</th>\n",
       "      <td>5</td>\n",
       "      <td>仿佛看了一部灵魂错位的死侍1.5，太特么欢乐了，小贱贱一直在被局长打脸，啪啪的，最后不得不承...</td>\n",
       "    </tr>\n",
       "    <tr>\n",
       "      <th>2</th>\n",
       "      <td>4</td>\n",
       "      <td>有幸参加由“死侍”RyanReynolds和塞缪尔杰克逊SamuelJackson主演下个月...</td>\n",
       "    </tr>\n",
       "    <tr>\n",
       "      <th>3</th>\n",
       "      <td>4</td>\n",
       "      <td>这是一部有爆炸有追车有枪战有肉搏镜头运用贼帅又有横跨欧洲美洲的异域风情的妹子加持嘴巴上还没把...</td>\n",
       "    </tr>\n",
       "    <tr>\n",
       "      <th>4</th>\n",
       "      <td>3</td>\n",
       "      <td>看评价说是很搞笑才看的。结果有点失望，笑点不多。但主题还是比较中肯，两个从外到内做事表达方式...</td>\n",
       "    </tr>\n",
       "  </tbody>\n",
       "</table>\n",
       "</div>"
      ],
      "text/plain": [
       "  _1                                                 _2\n",
       "0  5  在德国影院看的，字幕放完之后有彩蛋～先说两句题外话，算是引子吧。生活在德国看英语原声电影不容...\n",
       "1  5  仿佛看了一部灵魂错位的死侍1.5，太特么欢乐了，小贱贱一直在被局长打脸，啪啪的，最后不得不承...\n",
       "2  4  有幸参加由“死侍”RyanReynolds和塞缪尔杰克逊SamuelJackson主演下个月...\n",
       "3  4  这是一部有爆炸有追车有枪战有肉搏镜头运用贼帅又有横跨欧洲美洲的异域风情的妹子加持嘴巴上还没把...\n",
       "4  3  看评价说是很搞笑才看的。结果有点失望，笑点不多。但主题还是比较中肯，两个从外到内做事表达方式..."
      ]
     },
     "execution_count": 7,
     "metadata": {},
     "output_type": "execute_result"
    }
   ],
   "source": [
    "from pyspark.sql import Row\n",
    "originData_1=sc.textFile('douban_movie_1.txt')\n",
    "originData_2=sc.textFile('douban_movie_2.txt')\n",
    "# originDistinctData_1=originData_1.distinct()\n",
    "# originDistinctData_2=originData_2.distinct()\n",
    "rateDocument_1=originData_1.map(lambda line : line.split('\\t')).filter(lambda line : len(line)==2)#.map(lambda p: Row(rate=int(p[0]),mess_age=p[1]))\n",
    "rateDocument_2=originData_2.map(lambda line : line.split('\\t')).filter(lambda line : len(line)==2)#.map(lambda p: Row(rate=int(p[0]),mess_age=p[1]))\n",
    "rateDocument = rateDocument_1.union(rateDocument_2)\n",
    "rateDocument = rateDocument.filter(lambda line : int(line[0])<=5)\n",
    "rateDocument.toDF().toPandas().head()"
   ]
  },
  {
   "cell_type": "code",
   "execution_count": 8,
   "metadata": {},
   "outputs": [
    {
     "name": "stdout",
     "output_type": "stream",
     "text": [
      "246399\n",
      "191247\n",
      "87752\n",
      "23943\n",
      "14567\n"
     ]
    }
   ],
   "source": [
    "fiveRateDocument=rateDocument.filter(lambda line : int(line[0])==5)\n",
    "print(fiveRateDocument.count())\n",
    "fourRateDocument=rateDocument.filter(lambda line : int(line[0])==4)\n",
    "print(fourRateDocument.count())\n",
    "threeRateDocument=rateDocument.filter(lambda line : int(line[0])==3)\n",
    "print(threeRateDocument.count())\n",
    "twoRateDocument=rateDocument.filter(lambda line : int(line[0])==2)\n",
    "print(twoRateDocument.count())\n",
    "oneRateDocument=rateDocument.filter(lambda line : int(line[0])==1)\n",
    "print(oneRateDocument.count())"
   ]
  },
  {
   "cell_type": "code",
   "execution_count": 9,
   "metadata": {},
   "outputs": [
    {
     "name": "stdout",
     "output_type": "stream",
     "text": [
      "PythonRDD[68] at RDD at PythonRDD.scala:48\n"
     ]
    }
   ],
   "source": [
    "from pyspark.mllib.regression import LabeledPoint\n",
    "def ReduceRate(a):\n",
    "    if int(a) == 5 or int(a) == 4:\n",
    "        return 1\n",
    "    elif int(a) ==3:\n",
    "        return 0\n",
    "    else:\n",
    "        return -1\n",
    "# def ReduceRate(a):\n",
    "#     if int(a) == 5 or int(a) == 4:\n",
    "#         return 1\n",
    "#     else:\n",
    "#         return 0\n",
    "negRateDocument=oneRateDocument.union(twoRateDocument).union(threeRateDocument)\n",
    "# negRateDocument.repartition(1)\n",
    "positiveRateDocument=fiveRateDocument.union(fourRateDocument)\n",
    "# posRateDocument=sc.parallelize(positiveRateDocument.take(negRateDocument.count())) #.repartition(1)\n",
    "posRateDocument=sc.parallelize(positiveRateDocument.take(threeRateDocument.count())) #.repartition(1)\n",
    "allRateDocument=negRateDocument.union(posRateDocument)\n",
    "# allRateDocument.repartition(1)\n",
    "rate=allRateDocument.map(lambda s : ReduceRate(s[0]))\n",
    "document=allRateDocument.map(lambda s: s[1])\n",
    "\n",
    "#using Bayes Model\n",
    "# pip install jieba; conda install -c conda-forge jieba\n",
    "import jieba\n",
    "words=document.map(lambda w:\"/\".\\\n",
    "    join(jieba.cut_for_search(w))).\\\n",
    "    map(lambda line: line.split(\"/\"))\n",
    "print(words)\n",
    "from pyspark.mllib.feature import HashingTF, IDF\n",
    "hashingTF = HashingTF()\n",
    "tf = hashingTF.transform(words)\n",
    "tf.cache()\n",
    "# 计算 TF-IDF 矩阵\n",
    "idfModel = IDF().fit(tf)\n",
    "tfidf = idfModel.transform(tf)\n",
    "zipped=rate.zip(tfidf)\n",
    "data=zipped.map(lambda line:LabeledPoint(line[0],line[1]))\n",
    "training, test = data.randomSplit([0.6, 0.4], seed = 0)\n",
    "from pyspark.mllib.classification import NaiveBayes\n",
    "# NBmodel = NaiveBayes.train(training, 1.0)\n",
    "\n",
    "NBmodel = NaiveBayes.train(training, 1.0)\n",
    "predictionAndLabel = test.map(lambda p : (NBmodel.predict(p.features), p.label))\n",
    "accuracy = 1.0 * predictionAndLabel.filter(lambda x: 1.0 \\\n",
    "    if x[0] == x[1] else 0.0).count() / test.count()\n",
    "# def Chinese_sen_classifier(yourDocument):\n",
    "#     yourwords=\"/\".join(jieba.cut_for_search(yourDocument)).split(\"/\")\n",
    "#     yourtf = hashingTF.transform(yourwords)\n",
    "#     yourtfidf=idfModel.transform(yourtf)\n",
    "#     return (int(NBmodel.predict(yourtfidf)),'1')\n",
    "\n",
    "def Chinese_sen_classifier(yourDocument):\n",
    "    yourwords=\"/\".join(jieba.cut_for_search(yourDocument)).split(\"/\")\n",
    "    yourtf = hashingTF.transform(yourwords)\n",
    "    yourtfidf=idfModel.transform(yourtf)\n",
    "    return int(NBmodel.predict(yourtfidf))"
   ]
  },
  {
   "cell_type": "code",
   "execution_count": 180,
   "metadata": {},
   "outputs": [
    {
     "name": "stdout",
     "output_type": "stream",
     "text": [
      "-1\n",
      "0\n",
      "1\n"
     ]
    }
   ],
   "source": [
    "# a= [\"'好好听啊������指法好简单的样子，福音啊'\",\"'第一次前排激动\\\\≧▽≦/'\",\"恶心'\"]\n",
    "# print(accuracy)\n",
    "print(Chinese_sen_classifier(\"这么丑的吗，恶心'\")) #0:neutral -1:negative 1:positive\n",
    "print(Chinese_sen_classifier(\"'第一次前排激动\\\\≧▽≦/'\"))\n",
    "print(Chinese_sen_classifier('福音啊'))"
   ]
  },
  {
   "cell_type": "code",
   "execution_count": 175,
   "metadata": {
    "collapsed": true
   },
   "outputs": [],
   "source": [
    "\n",
    "# ###using SVM\n",
    "def ReduceRate(a):\n",
    "    if int(a) == 5 or int(a) == 4:\n",
    "        return 1\n",
    "    else:\n",
    "        return 0\n",
    "negRateDocument=oneRateDocument.union(twoRateDocument).union(threeRateDocument)\n",
    "negRateDocument.repartition(1)\n",
    "positiveRateDocument=fiveRateDocument.union(fourRateDocument)\n",
    "# posRateDocument=sc.parallelize(positiveRateDocument.take(negRateDocument.count())) #.repartition(1)\n",
    "posRateDocument=sc.parallelize(positiveRateDocument.take(threeRateDocument.count())).repartition(1)\n",
    "allRateDocument=negRateDocument.union(posRateDocument)\n",
    "allRateDocument.repartition(1)\n",
    "rate=allRateDocument.map(lambda s : ReduceRate(s[0]))\n",
    "document=allRateDocument.map(lambda s: s[1])\n",
    "import jieba\n",
    "words=document.map(lambda w:\"/\".\\\n",
    "    join(jieba.cut_for_search(w))).\\\n",
    "    map(lambda line: line.split(\"/\"))\n",
    "print(words)\n",
    "from pyspark.mllib.feature import HashingTF, IDF\n",
    "hashingTF = HashingTF()\n",
    "tf = hashingTF.transform(words)\n",
    "tf.cache()\n",
    "# 计算 TF-IDF 矩阵\n",
    "idfModel = IDF().fit(tf)\n",
    "tfidf = idfModel.transform(tf)\n",
    "zipped=rate.zip(tfidf)\n",
    "data=zipped.map(lambda line:LabeledPoint(line[0],line[1]))\n",
    "training, test = data.randomSplit([0.6, 0.4], seed = 0)\n",
    "\n",
    "\n",
    "from pyspark.mllib.classification import SVMWithSGD, SVMModel\n",
    "SVMmodel = SVMWithSGD.train(training, iterations=100)   #Classification labels should be 0 or 1. Found 23159 invalid labels\n",
    "predictionAndLabel = test.map(lambda p : (SVMmodel.predict(p.features), p.label))\n",
    "accuracy = 1.0 * predictionAndLabel.filter(lambda x: 1.0 if x[0] == x[1] else 0.0).count() / test.count()\n",
    "print('SVM classifier prediction accuracy is '+str(accuracy))\n",
    "\n",
    "\n",
    "def SVMChinese_sen_classifier(yourDocument):\n",
    "    yourwords=\"/\".join(jieba.cut_for_search(yourDocument)).split(\"/\")\n",
    "    yourtf = hashingTF.transform(yourwords)\n",
    "    yourtfidf=idfModel.transform(yourtf)\n",
    "    return int(SVMmodel.predict(yourtfidf))"
   ]
  },
  {
   "cell_type": "code",
   "execution_count": 178,
   "metadata": {},
   "outputs": [
    {
     "name": "stdout",
     "output_type": "stream",
     "text": [
      "0\n",
      "1\n",
      "1\n"
     ]
    }
   ],
   "source": [
    "print(SVMChinese_sen_classifier(\"这么丑的吗，恶心'\"))     #SVM model：0-negative;1-Positive\n",
    "print(SVMChinese_sen_classifier(\"'第一次前排激动\\\\≧▽≦/'\"))\n",
    "print(SVMChinese_sen_classifier('福音啊'))"
   ]
  },
  {
   "cell_type": "code",
   "execution_count": 10,
   "metadata": {},
   "outputs": [
    {
     "name": "stderr",
     "output_type": "stream",
     "text": [
      "Building prefix dict from the default dictionary ...\n",
      "Loading model from cache C:\\Users\\l\\AppData\\Local\\Temp\\jieba.cache\n"
     ]
    },
    {
     "name": "stdout",
     "output_type": "stream",
     "text": [
      "0.6752992714409539\n"
     ]
    },
    {
     "name": "stderr",
     "output_type": "stream",
     "text": [
      "Loading model cost 4.351 seconds.\n",
      "Prefix dict has been built succesfully.\n"
     ]
    },
    {
     "name": "stdout",
     "output_type": "stream",
     "text": [
      "0\n",
      "0\n",
      "1\n"
     ]
    }
   ],
   "source": []
  },
  {
   "cell_type": "code",
   "execution_count": null,
   "metadata": {
    "collapsed": true
   },
   "outputs": [],
   "source": []
  },
  {
   "cell_type": "code",
   "execution_count": null,
   "metadata": {
    "collapsed": true
   },
   "outputs": [],
   "source": []
  },
  {
   "cell_type": "markdown",
   "metadata": {},
   "source": [
    "# 4.使用该分类器对评论进行分类"
   ]
  },
  {
   "cell_type": "code",
   "execution_count": 11,
   "metadata": {
    "scrolled": true
   },
   "outputs": [
    {
     "data": {
      "text/html": [
       "<div>\n",
       "<style>\n",
       "    .dataframe thead tr:only-child th {\n",
       "        text-align: right;\n",
       "    }\n",
       "\n",
       "    .dataframe thead th {\n",
       "        text-align: left;\n",
       "    }\n",
       "\n",
       "    .dataframe tbody tr th {\n",
       "        vertical-align: top;\n",
       "    }\n",
       "</style>\n",
       "<table border=\"1\" class=\"dataframe\">\n",
       "  <thead>\n",
       "    <tr style=\"text-align: right;\">\n",
       "      <th></th>\n",
       "      <th>video_code</th>\n",
       "      <th>mess_age</th>\n",
       "      <th>ctime</th>\n",
       "    </tr>\n",
       "  </thead>\n",
       "  <tbody>\n",
       "    <tr>\n",
       "      <th>0</th>\n",
       "      <td>14245605</td>\n",
       "      <td>锅救了你一命</td>\n",
       "      <td>2017-09-08 04:41</td>\n",
       "    </tr>\n",
       "    <tr>\n",
       "      <th>1</th>\n",
       "      <td>14245605</td>\n",
       "      <td>什么操作</td>\n",
       "      <td>2017-09-08 05:02</td>\n",
       "    </tr>\n",
       "    <tr>\n",
       "      <th>2</th>\n",
       "      <td>14245605</td>\n",
       "      <td>好皮啊</td>\n",
       "      <td>2017-09-08 05:02</td>\n",
       "    </tr>\n",
       "    <tr>\n",
       "      <th>3</th>\n",
       "      <td>14245605</td>\n",
       "      <td>相信我你开了弹幕～</td>\n",
       "      <td>2017-09-09 04:16</td>\n",
       "    </tr>\n",
       "    <tr>\n",
       "      <th>4</th>\n",
       "      <td>14245605</td>\n",
       "      <td>我以为我qq响了</td>\n",
       "      <td>2017-09-09 12:25</td>\n",
       "    </tr>\n",
       "  </tbody>\n",
       "</table>\n",
       "</div>"
      ],
      "text/plain": [
       "   video_code   mess_age             ctime\n",
       "0    14245605     锅救了你一命  2017-09-08 04:41\n",
       "1    14245605       什么操作  2017-09-08 05:02\n",
       "2    14245605        好皮啊  2017-09-08 05:02\n",
       "3    14245605  相信我你开了弹幕～  2017-09-09 04:16\n",
       "4    14245605   我以为我qq响了  2017-09-09 12:25"
      ]
     },
     "execution_count": 11,
     "metadata": {},
     "output_type": "execute_result"
    }
   ],
   "source": [
    "#将弹幕数据与评论数据合并\n",
    "MsgDF = ReplyDF.union(DanmuDF).orderBy(\"video_code\")\n",
    "MsgDF.toPandas().head()\n",
    "# MsgDF.describe('ctime').show()"
   ]
  },
  {
   "cell_type": "code",
   "execution_count": 12,
   "metadata": {
    "collapsed": true
   },
   "outputs": [],
   "source": [
    "# classificated = ReplyDF.rdd.map(lambda s : Chinese_sen_classifier(s[1]))#not work; cannot work spark on a spark\n",
    "\n",
    "\n",
    "messageList = MsgDF.select(\"mess_age\").rdd.flatMap(lambda x: x).collect()\n",
    "scoreList = []\n",
    "for i in range(len(messageList)):\n",
    "    scoreList.append(Chinese_sen_classifier(messageList[i]))\n",
    "# scoreList[0:100\n",
    "# print(type(messageList))\n",
    "# print(len(messageList))\n",
    "# print(messageList[1])\n",
    "# print(len(scoreList))\n",
    "# print(messageList[0])\n",
    "# print(type(scoreList))"
   ]
  },
  {
   "cell_type": "code",
   "execution_count": 13,
   "metadata": {
    "scrolled": true
   },
   "outputs": [
    {
     "name": "stdout",
     "output_type": "stream",
     "text": [
      "+----------+-----+\n",
      "|video_code|score|\n",
      "+----------+-----+\n",
      "|  14245605|   -1|\n",
      "|  14245605|    0|\n",
      "|  14245605|    0|\n",
      "|  14245605|    0|\n",
      "|  14245605|   -1|\n",
      "|  14245605|   -1|\n",
      "|  14245605|   -1|\n",
      "|  14245605|    0|\n",
      "|  14245605|    1|\n",
      "|  14245605|    1|\n",
      "|  14245605|   -1|\n",
      "|  14245605|   -1|\n",
      "|  14245605|   -1|\n",
      "|  14245605|    1|\n",
      "|  14245605|    1|\n",
      "|  14245605|   -1|\n",
      "|  14245605|    1|\n",
      "|  14245605|    0|\n",
      "|  14245605|    0|\n",
      "|  14245605|    0|\n",
      "+----------+-----+\n",
      "only showing top 20 rows\n",
      "\n",
      "+-------+-------------------+\n",
      "|summary|              score|\n",
      "+-------+-------------------+\n",
      "|  count|              60577|\n",
      "|   mean|-0.1614474140350298|\n",
      "| stddev| 0.8361255810982599|\n",
      "|    min|                 -1|\n",
      "|    max|                  1|\n",
      "+-------+-------------------+\n",
      "\n"
     ]
    }
   ],
   "source": [
    "scoreL = []\n",
    "video_codeList = MsgDF.select(\"video_code\").rdd.flatMap(lambda x: x).collect()\n",
    "for i in range(len(scoreList)):\n",
    "    scoreL.append((video_codeList[i],scoreList[i]))\n",
    "scoreDF = spark.createDataFrame(scoreL,['video_code','score'])\n",
    "scoreDF.show()\n",
    "scoreDF.describe('score').show()"
   ]
  },
  {
   "cell_type": "markdown",
   "metadata": {
    "collapsed": true
   },
   "source": [
    "# 5.汇总评分、合并行、合并视频数据 "
   ]
  },
  {
   "cell_type": "code",
   "execution_count": 14,
   "metadata": {
    "collapsed": true
   },
   "outputs": [],
   "source": [
    "# # scoreDF = spark.createDataFrame(scoreList,['score']) #not work, 1.cannot convert a normal list[1,2] instead:[(1,1),(2,2)] 2.change into int instead of float   \n",
    "# # scoreDF = spark.createDataFrame(scoreList,['score','a'])\n",
    "#导入视频数据、获得列表\n",
    "from pyspark.sql import Row\n",
    "\n",
    "sc = spark.sparkContext\n",
    "# Load a text file and convert each line to a Row.\n",
    "lines = sc.textFile(\"bilivideo.log\")\n",
    "parts = lines.map(lambda l: l.split(\",\"))\n",
    "\n",
    "video= parts.map(lambda p: Row(video_url=p[0], video_code=int(p[1]), publish_time=str(p[2])[2:-1], category1=p[3], category2=p[4], video_uploader=p[5],\n",
    "                              uploader_id=p[6], uploader_upload_videos=p[7], up_sex=p[8], up_birth=p[9], up_fans=p[10],\n",
    "                              up_friend=p[11], up_attention=p[12], up_level=p[13], up_plate=p[14], up_pla_level=p[15],up_pla_condition=[16],\n",
    "                              view=int(p[17]),danmaku=int(p[18]),reply=p[19],favorite=int(p[20]),coin=int(p[21]),share=p[22],now_rank=p[23],his_rank=p[24],like_num=p[25],crawl_time=p[26]))\n",
    "schemaVideo = spark.createDataFrame(video)\n",
    "schemaVideo.createOrReplaceTempView(\"video\")\n"
   ]
  },
  {
   "cell_type": "code",
   "execution_count": 15,
   "metadata": {},
   "outputs": [
    {
     "data": {
      "text/plain": [
       "[Row(video_code=14245605, view=88249, favorite=446, coin=273, publish_time='2017-09-07 15:37', category1=\" '游戏'\"),\n",
       " Row(video_code=14245606, view=2145, favorite=372, coin=200, publish_time='2017-09-07 15:27', category1=\" '娱乐'\")]"
      ]
     },
     "execution_count": 15,
     "metadata": {},
     "output_type": "execute_result"
    }
   ],
   "source": [
    "#在此增加分析的维度\n",
    "videoDF = spark.sql(\"SELECT video_code,view,favorite,coin,publish_time,category1 FROM video order by video_code\")\n",
    "# videoDF = spark.sql(\"SELECT video_code,view,favorite,coin,publish_time,category1 FROM video order by video_code\")\n",
    "videoDF.take(2)\n"
   ]
  },
  {
   "cell_type": "code",
   "execution_count": 16,
   "metadata": {
    "scrolled": true
   },
   "outputs": [
    {
     "name": "stdout",
     "output_type": "stream",
     "text": [
      "+--------------------+--------+----+--------+----------------+---------+-------------------+----------+-----+\n",
      "|           avg_score|category|coin|favorite|    publish_time|sum_score|          var_score|video_code| view|\n",
      "+--------------------+--------+----+--------+----------------+---------+-------------------+----------+-----+\n",
      "|  0.4444444444444444|    '生活'|   4|      28|2017-09-07 15:33|        4| 0.7777777777777778|  14245770|  274|\n",
      "|                 1.0|    '娱乐'|   1|       4|2017-09-07 15:50|        2|                0.0|  14246196|   51|\n",
      "|               -0.75|    '游戏'|   1|      11|2017-09-07 16:15|       -9|0.20454545454545459|  14246788| 5425|\n",
      "|-0.16923076923076924|    '生活'|  13|      29|2017-09-08 08:07|      -11| 0.6427884615384616|  14246933| 3700|\n",
      "|-0.07692307692307693|    '音乐'|  10|     167|2017-09-07 16:30|       -1| 0.4102564102564103|  14247170| 4163|\n",
      "|                -1.0|    '游戏'|   0|       0|2017-09-07 16:39|       -1|                NaN|  14247593| 1018|\n",
      "|                 0.0|    '游戏'|   0|       0|2017-09-07 15:27|        0|                NaN|  14245696|   22|\n",
      "|                -0.5|    '时尚'|  10|       3|2017-09-07 16:02|       -2| 1.0000000000000002|  14246555|  126|\n",
      "|-0.11764705882352941|    '电影'|   3|      53|2017-09-07 16:29|       -2| 0.6102941176470589|  14246820| 1439|\n",
      "|-0.06060606060606061|    '游戏'|  30|       4|2017-09-07 16:29|       -2| 0.6837121212121211|  14246972|  459|\n",
      "|                 0.0|    '动画'|  12|      21|2017-09-07 16:17|        0|                0.8|  14246984| 1666|\n",
      "|                 1.0|    '游戏'|   0|       3|2017-09-07 16:27|        1|                NaN|  14247195|  310|\n",
      "|                -1.0|    '娱乐'|   0|       0|2017-09-07 16:27|       -1|                NaN|  14247284|   51|\n",
      "|                -1.0|    '游戏'|  25|      78|2017-09-07 16:40|       -6|                0.0|  14247454| 1792|\n",
      "|-0.03359683794466403|    '生活'| 210|      32|2017-09-07 15:44|      -17| 0.6741165420889921|  14245959|14472|\n",
      "|                 1.0|    '生活'|   0|       0|2017-09-07 16:12|        1|                NaN|  14246902|   62|\n",
      "|                -0.5|    '游戏'|   8|       7|2017-09-07 16:36|       -5|                0.5|  14247336|  799|\n",
      "|  -0.288135593220339|   '电视剧'|   4|      41|2017-09-07 16:20|      -17| 0.5879602571595558|  14246568|12100|\n",
      "|                 0.0|    '生活'|   2|      99|2017-09-07 16:07|        0| 0.5714285714285714|  14246764|  915|\n",
      "|-0.16666666666666666|    '生活'|   4|      11|2017-09-07 16:22|       -1| 0.9666666666666666|  14246814|  275|\n",
      "+--------------------+--------+----+--------+----------------+---------+-------------------+----------+-----+\n",
      "only showing top 20 rows\n",
      "\n"
     ]
    }
   ],
   "source": [
    "import pyspark.sql.functions as F\n",
    "# ReplyDF.agg(F.approx_count_distinct(df.video_code)).collect()\n",
    "#avg\n",
    "# scoreDF.groupBy().avg().collect()\n",
    "# sorted(scoreDF.groupBy('video_code').agg({'score': 'mean'}).orderBy(\"video_code\").collect())\n",
    "# sorted(scoreDF.groupBy(scoreDF.video_code).avg().collect())\n",
    "# sorted(scoreDF.groupBy(['video_code', scoreDF.score]).count().collect())\n",
    "#sum\n",
    "# sorted(scoreDF.groupBy('video_code').agg({'score': 'sum'}).orderBy(\"video_code\").collect())\n",
    "# sorted(scoreDF.groupBy('video_code').agg({'score': 'mean'}).orderBy(\"video_code\").collect())\n",
    "avgDF=scoreDF.groupBy('video_code').agg({'score': 'mean'}).orderBy(\"video_code\")\n",
    "sumDF=scoreDF.groupBy('video_code').agg({'score': 'sum'}).orderBy(\"video_code\")\n",
    "#variance\n",
    "varDF=scoreDF.groupBy('video_code').agg(F.variance(scoreDF.score))\n",
    "\n",
    "view_scoreDF = avgDF.join(videoDF, on='video_code').join(sumDF, on='video_code').join(varDF, on='video_code')\n",
    "view_scoreDF = view_scoreDF.rdd.map(lambda line: Row(video_code = line[0], avg_score = line[1], view=line[2], favorite=line[3],coin=line[4],publish_time=line[5],category=line[6],sum_score=line[7],var_score=line[8])).toDF()\n",
    "view_scoreDF.show()"
   ]
  },
  {
   "cell_type": "code",
   "execution_count": 17,
   "metadata": {},
   "outputs": [
    {
     "name": "stdout",
     "output_type": "stream",
     "text": [
      "+----------+----------+\n",
      "|video_code|sum(score)|\n",
      "+----------+----------+\n",
      "|  14245605|      -214|\n",
      "|  14245606|         0|\n",
      "|  14245610|         0|\n",
      "|  14245612|        -1|\n",
      "|  14245614|        -1|\n",
      "|  14245615|        -3|\n",
      "|  14245619|        -4|\n",
      "|  14245620|        -6|\n",
      "|  14245621|       -19|\n",
      "|  14245622|        -3|\n",
      "|  14245624|         2|\n",
      "|  14245625|        -3|\n",
      "|  14245626|       -19|\n",
      "|  14245627|         9|\n",
      "|  14245629|       -37|\n",
      "|  14245630|       -11|\n",
      "|  14245631|         1|\n",
      "|  14245633|        -2|\n",
      "|  14245635|        -5|\n",
      "|  14245638|        -1|\n",
      "+----------+----------+\n",
      "only showing top 20 rows\n",
      "\n"
     ]
    }
   ],
   "source": [
    "sumDF.show()"
   ]
  },
  {
   "cell_type": "markdown",
   "metadata": {},
   "source": [
    "# 6.情感分数与播放量的可视化"
   ]
  },
  {
   "cell_type": "code",
   "execution_count": 18,
   "metadata": {
    "collapsed": true
   },
   "outputs": [],
   "source": [
    "# conda install -c conda-forge matplotlib \n",
    "from IPython.display import display\n",
    "import matplotlib\n",
    "import matplotlib.pyplot as plt\n",
    "%matplotlib inline\n",
    "\n",
    "pdf=view_scoreDF.toPandas()\n"
   ]
  },
  {
   "cell_type": "code",
   "execution_count": 127,
   "metadata": {
    "scrolled": true
   },
   "outputs": [
    {
     "name": "stdout",
     "output_type": "stream",
     "text": [
      "+-------+-------------------+--------+------------------+-----------------+----------------+------------------+---------+--------------------+------------------+\n",
      "|summary|          avg_score|category|              coin|         favorite|    publish_time|         sum_score|var_score|          video_code|              view|\n",
      "+-------+-------------------+--------+------------------+-----------------+----------------+------------------+---------+--------------------+------------------+\n",
      "|  count|               1107|    1107|              1107|             1107|            1107|              1107|     1107|                1107|              1107|\n",
      "|   mean|-0.1346175802833703|    null|40.928635953026195|84.18608852755195|            null|-8.688346883468835|      NaN|1.4246635139114724E7| 5174.675700090334|\n",
      "| stddev|  0.514680482936535|    null|253.21659699353037|303.6232849359572|            null| 35.95111056031104|      NaN|   576.3936915705108|14609.688959900612|\n",
      "|    min|               -1.0|    '动画'|                 0|                0|2017-09-07 15:22|              -531|      0.0|            14245605|                 1|\n",
      "|    max|                1.0|    '鬼畜'|              5813|             3948|2017-09-10 16:37|               292|      NaN|            14247604|            180395|\n",
      "+-------+-------------------+--------+------------------+-----------------+----------------+------------------+---------+--------------------+------------------+\n",
      "\n"
     ]
    }
   ],
   "source": [
    "# pdf.plot(kind='barh',x='view',y='avg_score',colormap='winter_r')\n",
    "view_scoreDF.describe().show()"
   ]
  },
  {
   "cell_type": "code",
   "execution_count": 20,
   "metadata": {
    "collapsed": true
   },
   "outputs": [],
   "source": [
    "# import pandas\n",
    "pdf.fillna(0, inplace=True) #using inplace=True to actually change the contents of df."
   ]
  },
  {
   "cell_type": "code",
   "execution_count": 21,
   "metadata": {},
   "outputs": [
    {
     "data": {
      "text/html": [
       "<div>\n",
       "<style>\n",
       "    .dataframe thead tr:only-child th {\n",
       "        text-align: right;\n",
       "    }\n",
       "\n",
       "    .dataframe thead th {\n",
       "        text-align: left;\n",
       "    }\n",
       "\n",
       "    .dataframe tbody tr th {\n",
       "        vertical-align: top;\n",
       "    }\n",
       "</style>\n",
       "<table border=\"1\" class=\"dataframe\">\n",
       "  <thead>\n",
       "    <tr style=\"text-align: right;\">\n",
       "      <th></th>\n",
       "      <th>avg_score</th>\n",
       "      <th>category</th>\n",
       "      <th>coin</th>\n",
       "      <th>favorite</th>\n",
       "      <th>publish_time</th>\n",
       "      <th>sum_score</th>\n",
       "      <th>var_score</th>\n",
       "      <th>video_code</th>\n",
       "      <th>view</th>\n",
       "    </tr>\n",
       "  </thead>\n",
       "  <tbody>\n",
       "    <tr>\n",
       "      <th>0</th>\n",
       "      <td>0.444444</td>\n",
       "      <td>'生活'</td>\n",
       "      <td>4</td>\n",
       "      <td>28</td>\n",
       "      <td>2017-09-07 15:33</td>\n",
       "      <td>4</td>\n",
       "      <td>0.777778</td>\n",
       "      <td>14245770</td>\n",
       "      <td>274</td>\n",
       "    </tr>\n",
       "    <tr>\n",
       "      <th>1</th>\n",
       "      <td>1.000000</td>\n",
       "      <td>'娱乐'</td>\n",
       "      <td>1</td>\n",
       "      <td>4</td>\n",
       "      <td>2017-09-07 15:50</td>\n",
       "      <td>2</td>\n",
       "      <td>0.000000</td>\n",
       "      <td>14246196</td>\n",
       "      <td>51</td>\n",
       "    </tr>\n",
       "    <tr>\n",
       "      <th>2</th>\n",
       "      <td>-0.750000</td>\n",
       "      <td>'游戏'</td>\n",
       "      <td>1</td>\n",
       "      <td>11</td>\n",
       "      <td>2017-09-07 16:15</td>\n",
       "      <td>-9</td>\n",
       "      <td>0.204545</td>\n",
       "      <td>14246788</td>\n",
       "      <td>5425</td>\n",
       "    </tr>\n",
       "    <tr>\n",
       "      <th>3</th>\n",
       "      <td>-0.169231</td>\n",
       "      <td>'生活'</td>\n",
       "      <td>13</td>\n",
       "      <td>29</td>\n",
       "      <td>2017-09-08 08:07</td>\n",
       "      <td>-11</td>\n",
       "      <td>0.642788</td>\n",
       "      <td>14246933</td>\n",
       "      <td>3700</td>\n",
       "    </tr>\n",
       "    <tr>\n",
       "      <th>4</th>\n",
       "      <td>-0.076923</td>\n",
       "      <td>'音乐'</td>\n",
       "      <td>10</td>\n",
       "      <td>167</td>\n",
       "      <td>2017-09-07 16:30</td>\n",
       "      <td>-1</td>\n",
       "      <td>0.410256</td>\n",
       "      <td>14247170</td>\n",
       "      <td>4163</td>\n",
       "    </tr>\n",
       "  </tbody>\n",
       "</table>\n",
       "</div>"
      ],
      "text/plain": [
       "   avg_score category  coin  favorite      publish_time  sum_score  var_score  \\\n",
       "0   0.444444     '生活'     4        28  2017-09-07 15:33          4   0.777778   \n",
       "1   1.000000     '娱乐'     1         4  2017-09-07 15:50          2   0.000000   \n",
       "2  -0.750000     '游戏'     1        11  2017-09-07 16:15         -9   0.204545   \n",
       "3  -0.169231     '生活'    13        29  2017-09-08 08:07        -11   0.642788   \n",
       "4  -0.076923     '音乐'    10       167  2017-09-07 16:30         -1   0.410256   \n",
       "\n",
       "   video_code  view  \n",
       "0    14245770   274  \n",
       "1    14246196    51  \n",
       "2    14246788  5425  \n",
       "3    14246933  3700  \n",
       "4    14247170  4163  "
      ]
     },
     "execution_count": 21,
     "metadata": {},
     "output_type": "execute_result"
    }
   ],
   "source": [
    "pdf.head()\n",
    "# df.describe(['baths', 'beds','price','sqft']).show()  #df is dataframe, pandaDa or RDD ?"
   ]
  },
  {
   "cell_type": "code",
   "execution_count": 124,
   "metadata": {},
   "outputs": [
    {
     "data": {
      "text/plain": [
       "<matplotlib.axes._subplots.AxesSubplot at 0x28d814a47f0>"
      ]
     },
     "execution_count": 124,
     "metadata": {},
     "output_type": "execute_result"
    },
    {
     "data": {
      "image/png": "[encoded data removed]",
      "text/plain": [
       "<matplotlib.figure.Figure at 0x28dfa6c96a0>"
      ]
     },
     "metadata": {},
     "output_type": "display_data"
    }
   ],
   "source": [
    "pdf.plot.scatter(x='avg_score', y='view')"
   ]
  },
  {
   "cell_type": "code",
   "execution_count": 23,
   "metadata": {
    "collapsed": true
   },
   "outputs": [],
   "source": [
    "# pdf1.plot.scatter(x='sum_score', y='view')\n",
    "# plt.scatter(pdf['sum_score'],pdf['view'])\n",
    "# plt.show()"
   ]
  },
  {
   "cell_type": "code",
   "execution_count": 139,
   "metadata": {},
   "outputs": [
    {
     "data": {
      "image/png": "[encoded data removed]",
      "text/plain": [
       "<matplotlib.figure.Figure at 0x28dfbbddb38>"
      ]
     },
     "metadata": {},
     "output_type": "display_data"
    }
   ],
   "source": [
    "import numpy as np\n",
    "colors = np.random.rand(int(pdf['video_code'].count()))\n",
    "font = {'family': 'serif',\n",
    "        'color':  'darkred',\n",
    "        'weight': 'normal',\n",
    "        'size': 16,\n",
    "        }\n",
    "plt.text(0.1, 125000, r'$->Favorites$', fontdict=font)\n",
    "plt.xlabel('Average Score', fontdict=font)\n",
    "plt.ylabel('View', fontdict=font)\n",
    "plt.scatter(x=pdf['avg_score'], y=pdf['view'], s=pdf['favorite'], c=colors, alpha=0.5)\n",
    "plt.show()"
   ]
  },
  {
   "cell_type": "code",
   "execution_count": 140,
   "metadata": {},
   "outputs": [
    {
     "data": {
      "image/png": "[encoded data removed]",
      "text/plain": [
       "<matplotlib.figure.Figure at 0x28df8566ac8>"
      ]
     },
     "metadata": {},
     "output_type": "display_data"
    }
   ],
   "source": [
    "import numpy as np\n",
    "colors = np.random.rand(int(pdf['video_code'].count()))\n",
    "font = {'family': 'serif',\n",
    "        'color':  'darkred',\n",
    "        'weight': 'normal',\n",
    "        'size': 16,\n",
    "        }\n",
    "plt.text(0.1, 125000, r'$->Coins$', fontdict=font)\n",
    "plt.xlabel('Average Score', fontdict=font)\n",
    "plt.ylabel('View', fontdict=font)\n",
    "plt.scatter(x=pdf['avg_score'], y=pdf['view'], s=pdf['coin'], c=colors, alpha=0.5)\n",
    "plt.show()"
   ]
  },
  {
   "cell_type": "code",
   "execution_count": 195,
   "metadata": {},
   "outputs": [
    {
     "data": {
      "image/png": "[encoded data removed]",
      "text/plain": [
       "<matplotlib.figure.Figure at 0x28d814ad080>"
      ]
     },
     "metadata": {},
     "output_type": "display_data"
    }
   ],
   "source": [
    "import numpy as np\n",
    "colors = np.random.rand(int(pdf['video_code'].count()))\n",
    "font = {'family': 'serif',\n",
    "        'color':  'darkred',\n",
    "        'weight': 'normal',\n",
    "        'size': 16,\n",
    "        }\n",
    "# plt.text(0.1, 125000, r'$->Coins$', fontdict=font)\n",
    "plt.xlabel('Sum Score', fontdict=font)\n",
    "plt.ylabel('View', fontdict=font)\n",
    "plt.scatter(x=pdf['sum_score'], y=pdf['view'])\n",
    "plt.show()"
   ]
  },
  {
   "cell_type": "code",
   "execution_count": null,
   "metadata": {
    "collapsed": true
   },
   "outputs": [],
   "source": []
  },
  {
   "cell_type": "markdown",
   "metadata": {},
   "source": [
    "# 7.线性回归"
   ]
  },
  {
   "cell_type": "markdown",
   "metadata": {},
   "source": [
    "#### 自变量：情感评分的平均值、总和以及方差；因变量：播放量；"
   ]
  },
  {
   "cell_type": "code",
   "execution_count": 25,
   "metadata": {
    "collapsed": true
   },
   "outputs": [],
   "source": [
    "# # Labeled Points and Scaling Data\n",
    "# # First Example with RDD\n",
    "training = sqlContext.createDataFrame(pdf)['view','sum_score','avg_score','var_score']\n",
    "# temp = training.rdd.map(lambda line:LabeledPoint(line[0],[line[1:]]))\n",
    "# print(temp.take(5))\n",
    "\n",
    "# from pyspark.mllib.util import MLUtils\n",
    "# from pyspark.mllib.linalg import Vectors\n",
    "# from pyspark.mllib.feature import StandardScaler\n",
    "# features = training.rdd.map(lambda row: row[1:])\n",
    "# print(features.take(5))\n",
    "# standardizer = StandardScaler()\n",
    "# model = standardizer.fit(features)\n",
    "# features_transform = model.transform(features)\n",
    "# features_transform.take(5)"
   ]
  },
  {
   "cell_type": "code",
   "execution_count": 26,
   "metadata": {
    "collapsed": true,
    "scrolled": true
   },
   "outputs": [],
   "source": [
    "# # Putting labels together with features\n",
    "# lab = training.rdd.map(lambda row: row[0])\n",
    "# print(lab.take(5))\n",
    "# transformedData = lab.zip(features_transform)\n",
    "# print(transformedData.take(5))\n",
    "# transformedData = transformedData.map(lambda row: LabeledPoint(row[0],[row[1]]))\n",
    "# transformedData.take(5)"
   ]
  },
  {
   "cell_type": "code",
   "execution_count": 27,
   "metadata": {
    "collapsed": true
   },
   "outputs": [],
   "source": [
    "# from pyspark.mllib.regression import LinearRegressionWithSGD\n",
    "# trainingData, testingData = transformedData.randomSplit([.8,.2],seed=1234)\n",
    "# linearModel = LinearRegressionWithSGD.train(trainingData,1000,.2)\n",
    "# print(linearModel.weights)\n",
    "# testingData.take(10)\n",
    "# print(\"predict:\")\n",
    "# print(linearModel.predict([1.09161472531,2.61875531012,1.8069648352]))\n",
    "\n",
    "# #transformedData would be our data for training"
   ]
  },
  {
   "cell_type": "code",
   "execution_count": 28,
   "metadata": {
    "collapsed": true,
    "scrolled": true
   },
   "outputs": [],
   "source": [
    "# # Checking the Model with Metrics\n",
    "# from pyspark.mllib.evaluation import RegressionMetrics\n",
    "# prediObserRDDin = trainingData.map(lambda row: (float(linearModel.predict(row.features[0])),row.label))\n",
    "# metrics = RegressionMetrics(prediObserRDDin)\n",
    "# print('metrics.r2 is'+metrics.r2)\n",
    "# prediObserRDDout = testingData.map(lambda row: (float(linearModel.predict(row.features[0])),row.label))\n",
    "# metrics = RegressionMetrics(prediObserRDDout)\n",
    "# print('metrics.rootMeanSquaredError is'+metrics.rootMeanSquaredError)"
   ]
  },
  {
   "cell_type": "code",
   "execution_count": 29,
   "metadata": {
    "scrolled": false
   },
   "outputs": [
    {
     "name": "stdout",
     "output_type": "stream",
     "text": [
      "DataFrame[view: bigint, sum_score: bigint, avg_score: double, var_score: double]\n",
      "root\n",
      " |-- view: long (nullable = true)\n",
      " |-- sum_score: long (nullable = true)\n",
      " |-- avg_score: double (nullable = true)\n",
      " |-- var_score: double (nullable = true)\n",
      "\n",
      "root\n",
      " |-- view: long (nullable = true)\n",
      " |-- sum_score: long (nullable = true)\n",
      " |-- avg_score: float (nullable = true)\n",
      " |-- var_score: float (nullable = true)\n",
      "\n"
     ]
    },
    {
     "data": {
      "text/plain": [
       "[Row(view=274, sum_score=4, avg_score=0.4444444477558136, var_score=0.7777777910232544),\n",
       " Row(view=51, sum_score=2, avg_score=1.0, var_score=0.0),\n",
       " Row(view=5425, sum_score=-9, avg_score=-0.75, var_score=0.20454545319080353),\n",
       " Row(view=3700, sum_score=-11, avg_score=-0.16923077404499054, var_score=0.6427884697914124),\n",
       " Row(view=4163, sum_score=-1, avg_score=-0.07692307978868484, var_score=0.41025641560554504)]"
      ]
     },
     "execution_count": 29,
     "metadata": {},
     "output_type": "execute_result"
    }
   ],
   "source": [
    "from pyspark.sql.types import *\n",
    "print(training)\n",
    "training.take(5)\n",
    "training.printSchema()\n",
    "training = training.withColumn(\"avg_score\", training[\"avg_score\"].cast(FloatType())).withColumn(\"var_score\", training[\"var_score\"].cast(FloatType())) \n",
    "training.printSchema()\n",
    "training.take(5)\n",
    "\n",
    "\n",
    "###some usages below:\n",
    "# df.groupBy(\"housingMedianAge\").count().sort(\"housingMedianAge\",ascending=False).show()\n",
    "# df.describe().show()\n",
    "# Import all from `sql.functions` \n",
    "# from pyspark.sql.functions import *\n",
    "# # Adjust the values of `medianHouseValue`\n",
    "# df = df.withColumn(\"medianHouseValue\", col(\"medianHouseValue\")/100000)\n",
    "# # Show the first 2 lines of `df`\n",
    "# df.take(2)\n"
   ]
  },
  {
   "cell_type": "code",
   "execution_count": 119,
   "metadata": {},
   "outputs": [
    {
     "data": {
      "text/html": [
       "<div>\n",
       "<style>\n",
       "    .dataframe thead tr:only-child th {\n",
       "        text-align: right;\n",
       "    }\n",
       "\n",
       "    .dataframe thead th {\n",
       "        text-align: left;\n",
       "    }\n",
       "\n",
       "    .dataframe tbody tr th {\n",
       "        vertical-align: top;\n",
       "    }\n",
       "</style>\n",
       "<table border=\"1\" class=\"dataframe\">\n",
       "  <thead>\n",
       "    <tr style=\"text-align: right;\">\n",
       "      <th></th>\n",
       "      <th>view</th>\n",
       "      <th>sum_score</th>\n",
       "      <th>avg_score</th>\n",
       "      <th>var_score</th>\n",
       "    </tr>\n",
       "  </thead>\n",
       "  <tbody>\n",
       "    <tr>\n",
       "      <th>count</th>\n",
       "      <td>1107.00000</td>\n",
       "      <td>1107.000000</td>\n",
       "      <td>1107.000000</td>\n",
       "      <td>1107.000000</td>\n",
       "    </tr>\n",
       "    <tr>\n",
       "      <th>mean</th>\n",
       "      <td>5174.67570</td>\n",
       "      <td>-8.688347</td>\n",
       "      <td>-0.134618</td>\n",
       "      <td>0.547517</td>\n",
       "    </tr>\n",
       "    <tr>\n",
       "      <th>std</th>\n",
       "      <td>14609.68896</td>\n",
       "      <td>35.951111</td>\n",
       "      <td>0.514680</td>\n",
       "      <td>0.412828</td>\n",
       "    </tr>\n",
       "    <tr>\n",
       "      <th>min</th>\n",
       "      <td>1.00000</td>\n",
       "      <td>-531.000000</td>\n",
       "      <td>-1.000000</td>\n",
       "      <td>0.000000</td>\n",
       "    </tr>\n",
       "    <tr>\n",
       "      <th>25%</th>\n",
       "      <td>96.00000</td>\n",
       "      <td>-5.000000</td>\n",
       "      <td>-0.408893</td>\n",
       "      <td>0.180556</td>\n",
       "    </tr>\n",
       "    <tr>\n",
       "      <th>50%</th>\n",
       "      <td>481.00000</td>\n",
       "      <td>-1.000000</td>\n",
       "      <td>-0.142857</td>\n",
       "      <td>0.618421</td>\n",
       "    </tr>\n",
       "    <tr>\n",
       "      <th>75%</th>\n",
       "      <td>3079.50000</td>\n",
       "      <td>1.000000</td>\n",
       "      <td>0.056796</td>\n",
       "      <td>0.767775</td>\n",
       "    </tr>\n",
       "    <tr>\n",
       "      <th>max</th>\n",
       "      <td>180395.00000</td>\n",
       "      <td>292.000000</td>\n",
       "      <td>1.000000</td>\n",
       "      <td>2.000000</td>\n",
       "    </tr>\n",
       "  </tbody>\n",
       "</table>\n",
       "</div>"
      ],
      "text/plain": [
       "               view    sum_score    avg_score    var_score\n",
       "count    1107.00000  1107.000000  1107.000000  1107.000000\n",
       "mean     5174.67570    -8.688347    -0.134618     0.547517\n",
       "std     14609.68896    35.951111     0.514680     0.412828\n",
       "min         1.00000  -531.000000    -1.000000     0.000000\n",
       "25%        96.00000    -5.000000    -0.408893     0.180556\n",
       "50%       481.00000    -1.000000    -0.142857     0.618421\n",
       "75%      3079.50000     1.000000     0.056796     0.767775\n",
       "max    180395.00000   292.000000     1.000000     2.000000"
      ]
     },
     "execution_count": 119,
     "metadata": {},
     "output_type": "execute_result"
    }
   ],
   "source": [
    "# training.describe().show()\n",
    "training.toPandas().describe()"
   ]
  },
  {
   "cell_type": "markdown",
   "metadata": {},
   "source": [
    "## Standardization"
   ]
  },
  {
   "cell_type": "code",
   "execution_count": 31,
   "metadata": {
    "collapsed": true
   },
   "outputs": [],
   "source": [
    "# transformedData.take(5)\n",
    "# transformedDataDF = transformedData.toDF()\n",
    "# transformedDataDF.show()\n",
    "# training['view']\n",
    "#The things above definitely don't work."
   ]
  },
  {
   "cell_type": "code",
   "execution_count": 120,
   "metadata": {},
   "outputs": [
    {
     "data": {
      "text/plain": [
       "[Row(label=274, features=DenseVector([4.0, 0.4444, 0.7778])),\n",
       " Row(label=51, features=DenseVector([2.0, 1.0, 0.0])),\n",
       " Row(label=5425, features=DenseVector([-9.0, -0.75, 0.2045])),\n",
       " Row(label=3700, features=DenseVector([-11.0, -0.1692, 0.6428])),\n",
       " Row(label=4163, features=DenseVector([-1.0, -0.0769, 0.4103]))]"
      ]
     },
     "execution_count": 120,
     "metadata": {},
     "output_type": "execute_result"
    }
   ],
   "source": [
    "##Linear model fo DF\n",
    "\n",
    "# Import `DenseVector`\n",
    "from pyspark.ml.linalg import DenseVector\n",
    "\n",
    "# Define the `input_data` \n",
    "input_data = training.rdd.map(lambda x: (x[0], DenseVector(x[1:])))\n",
    "\n",
    "# Replace `df` with the new DataFrame\n",
    "trainingDataDF = spark.createDataFrame(input_data, [\"label\", \"features\"])\n",
    "trainingDataDF.take(5)"
   ]
  },
  {
   "cell_type": "code",
   "execution_count": 121,
   "metadata": {},
   "outputs": [
    {
     "data": {
      "text/plain": [
       "[Row(label=274, features=DenseVector([4.0, 0.4444, 0.7778]), features_scaled=DenseVector([0.1113, 0.8635, 1.884])),\n",
       " Row(label=51, features=DenseVector([2.0, 1.0, 0.0]), features_scaled=DenseVector([0.0556, 1.943, 0.0]))]"
      ]
     },
     "execution_count": 121,
     "metadata": {},
     "output_type": "execute_result"
    }
   ],
   "source": [
    "# Import `StandardScaler` \n",
    "from pyspark.ml.feature import StandardScaler\n",
    "# Initialize the `standardScaler`\n",
    "standardScaler = StandardScaler(inputCol=\"features\", outputCol=\"features_scaled\")\n",
    "# Fit the DataFrame to the scaler\n",
    "scaler = standardScaler.fit(trainingDataDF)\n",
    "# Transform the data in `df` with the scaler\n",
    "scaled_df = scaler.transform(trainingDataDF)\n",
    "# Inspect the result\n",
    "scaled_df.take(2)\n",
    "\n"
   ]
  },
  {
   "cell_type": "markdown",
   "metadata": {},
   "source": [
    "## Linear Regression"
   ]
  },
  {
   "cell_type": "code",
   "execution_count": 122,
   "metadata": {},
   "outputs": [
    {
     "name": "stdout",
     "output_type": "stream",
     "text": [
      "+-----+--------------------+--------------------+\n",
      "|label|            features|     features_scaled|\n",
      "+-----+--------------------+--------------------+\n",
      "|    7|[-2.0,-0.66666668...|[-0.0556311048206...|\n",
      "|    7|     [-1.0,-1.0,0.0]|[-0.0278155524103...|\n",
      "|    7|     [-1.0,-1.0,0.0]|[-0.0278155524103...|\n",
      "|    9|     [-1.0,-1.0,0.0]|[-0.0278155524103...|\n",
      "|    9|       [1.0,1.0,0.0]|[0.02781555241033...|\n",
      "|   11|     [-1.0,-1.0,0.0]|[-0.0278155524103...|\n",
      "|   11|     [-1.0,-1.0,0.0]|[-0.0278155524103...|\n",
      "|   11|       [1.0,1.0,0.0]|[0.02781555241033...|\n",
      "|   12|     [-1.0,-1.0,0.0]|[-0.0278155524103...|\n",
      "|   12|     [-1.0,-1.0,0.0]|[-0.0278155524103...|\n",
      "|   13|       [1.0,1.0,0.0]|[0.02781555241033...|\n",
      "|   14|   [-3.0,-0.75,0.25]|[-0.0834466572309...|\n",
      "|   14|       [1.0,1.0,0.0]|[0.02781555241033...|\n",
      "|   15|     [-1.0,-1.0,0.0]|[-0.0278155524103...|\n",
      "|   15|       [0.0,0.0,0.0]|       [0.0,0.0,0.0]|\n",
      "|   15|       [1.0,1.0,0.0]|[0.02781555241033...|\n",
      "|   16|       [0.0,0.0,1.0]|[0.0,0.0,2.422316...|\n",
      "|   16|       [1.0,1.0,0.0]|[0.02781555241033...|\n",
      "|   17|       [1.0,0.5,0.5]|[0.02781555241033...|\n",
      "|   19|       [0.0,0.0,0.0]|       [0.0,0.0,0.0]|\n",
      "+-----+--------------------+--------------------+\n",
      "only showing top 20 rows\n",
      "\n"
     ]
    }
   ],
   "source": [
    "# train_data.show()"
   ]
  },
  {
   "cell_type": "code",
   "execution_count": 123,
   "metadata": {},
   "outputs": [
    {
     "data": {
      "text/plain": [
       "[(2673.5242452892494, 1),\n",
       " (5422.926425062389, 3),\n",
       " (4627.860521541157, 7),\n",
       " (2302.2298280974187, 13),\n",
       " (2492.055471791884, 25)]"
      ]
     },
     "execution_count": 123,
     "metadata": {},
     "output_type": "execute_result"
    }
   ],
   "source": [
    "# Split the data into train and test sets\n",
    "train_data, test_data = scaled_df.randomSplit([.8,.2],seed=1234)\n",
    "# Import `LinearRegression`\n",
    "from pyspark.ml.regression import LinearRegression\n",
    "# Initialize `lr`\n",
    "lr = LinearRegression(labelCol=\"label\", maxIter=10, regParam=0.3, elasticNetParam=0.8)\n",
    "# Fit the data to the model\n",
    "linearModel = lr.fit(train_data)\n",
    "# Generate predictions\n",
    "predicted = linearModel.transform(test_data)\n",
    "# Extract the predictions and the \"known\" correct labels\n",
    "predictions = predicted.select(\"prediction\").rdd.map(lambda x: x[0])\n",
    "labels = predicted.select(\"label\").rdd.map(lambda x: x[0])\n",
    "# Zip `predictions` and `labels` into a list\n",
    "predictionAndLabel = predictions.zip(labels).collect()\n",
    "# Print out first 5 instances of `predictionAndLabel` \n",
    "predictionAndLabel[:5]"
   ]
  },
  {
   "cell_type": "code",
   "execution_count": 142,
   "metadata": {},
   "outputs": [
    {
     "name": "stdout",
     "output_type": "stream",
     "text": [
      "Coefficients: [-189.825643694,375.47285229,2152.78596022]\n",
      "Intercept: 2487.877036693334\n",
      "numIterations: 8\n",
      "objectiveHistory: [0.5, 0.47880268484197724, 0.4205966376809585, 0.40125348591700083, 0.40119541674723086, 0.40110900652013975, 0.4011088188873444, 0.401108818823124]\n",
      "+-------------------+\n",
      "|          residuals|\n",
      "+-------------------+\n",
      "| -3327.808423220712|\n",
      "|-2295.2298280974187|\n",
      "|-2295.2298280974187|\n",
      "|-2293.2298280974187|\n",
      "|-2664.5242452892494|\n",
      "|-2291.2298280974187|\n",
      "|-2291.2298280974187|\n",
      "|-2662.5242452892494|\n",
      "|-2290.2298280974187|\n",
      "|-2290.2298280974187|\n",
      "|-2660.5242452892494|\n",
      "|-3299.9458186134466|\n",
      "|-2659.5242452892494|\n",
      "|-2287.2298280974187|\n",
      "| -2472.877036693334|\n",
      "|-2658.5242452892494|\n",
      "| -4624.662996911341|\n",
      "|-2657.5242452892494|\n",
      "|-3545.1807992530626|\n",
      "| -2468.877036693334|\n",
      "+-------------------+\n",
      "only showing top 20 rows\n",
      "\n",
      "RMSE: 13102.455782\n",
      "r2: 0.197800\n"
     ]
    }
   ],
   "source": [
    "# Print the coefficients and intercept for linear regression\n",
    "print(\"Coefficients: %s\" % str(linearModel.coefficients))\n",
    "print(\"Intercept: %s\" % str(linearModel.intercept))\n",
    "\n",
    "# Summarize the model over the training set and print out some metrics\n",
    "trainingSummary = linearModel.summary\n",
    "# print(\"T Values: \" + str(trainingSummary.tValues))\n",
    "# print(\"P Values: \" + str(trainingSummary.pValues))\n",
    "print(\"numIterations: %d\" % trainingSummary.totalIterations)\n",
    "print(\"objectiveHistory: %s\" % str(trainingSummary.objectiveHistory))\n",
    "trainingSummary.residuals.show()\n",
    "print(\"RMSE: %f\" % trainingSummary.rootMeanSquaredError)\n",
    "print(\"r2: %f\" % trainingSummary.r2)\n"
   ]
  },
  {
   "cell_type": "markdown",
   "metadata": {},
   "source": [
    "## GeneralizedLinearRegression"
   ]
  },
  {
   "cell_type": "code",
   "execution_count": 183,
   "metadata": {},
   "outputs": [
    {
     "data": {
      "text/html": [
       "<div>\n",
       "<style>\n",
       "    .dataframe thead tr:only-child th {\n",
       "        text-align: right;\n",
       "    }\n",
       "\n",
       "    .dataframe thead th {\n",
       "        text-align: left;\n",
       "    }\n",
       "\n",
       "    .dataframe tbody tr th {\n",
       "        vertical-align: top;\n",
       "    }\n",
       "</style>\n",
       "<table border=\"1\" class=\"dataframe\">\n",
       "  <thead>\n",
       "    <tr style=\"text-align: right;\">\n",
       "      <th></th>\n",
       "      <th>avg_score</th>\n",
       "      <th>sum_score</th>\n",
       "      <th>var_score</th>\n",
       "      <th>view_ln</th>\n",
       "    </tr>\n",
       "  </thead>\n",
       "  <tbody>\n",
       "    <tr>\n",
       "      <th>count</th>\n",
       "      <td>1107.000000</td>\n",
       "      <td>1107.000000</td>\n",
       "      <td>1107.000000</td>\n",
       "      <td>1107.000000</td>\n",
       "    </tr>\n",
       "    <tr>\n",
       "      <th>mean</th>\n",
       "      <td>-0.134618</td>\n",
       "      <td>-8.688347</td>\n",
       "      <td>0.547517</td>\n",
       "      <td>6.302043</td>\n",
       "    </tr>\n",
       "    <tr>\n",
       "      <th>std</th>\n",
       "      <td>0.514680</td>\n",
       "      <td>35.951111</td>\n",
       "      <td>0.412828</td>\n",
       "      <td>2.274598</td>\n",
       "    </tr>\n",
       "    <tr>\n",
       "      <th>min</th>\n",
       "      <td>-1.000000</td>\n",
       "      <td>-531.000000</td>\n",
       "      <td>0.000000</td>\n",
       "      <td>0.000000</td>\n",
       "    </tr>\n",
       "    <tr>\n",
       "      <th>25%</th>\n",
       "      <td>-0.408893</td>\n",
       "      <td>-5.000000</td>\n",
       "      <td>0.180556</td>\n",
       "      <td>4.564294</td>\n",
       "    </tr>\n",
       "    <tr>\n",
       "      <th>50%</th>\n",
       "      <td>-0.142857</td>\n",
       "      <td>-1.000000</td>\n",
       "      <td>0.618421</td>\n",
       "      <td>6.175867</td>\n",
       "    </tr>\n",
       "    <tr>\n",
       "      <th>75%</th>\n",
       "      <td>0.056796</td>\n",
       "      <td>1.000000</td>\n",
       "      <td>0.767775</td>\n",
       "      <td>8.032510</td>\n",
       "    </tr>\n",
       "    <tr>\n",
       "      <th>max</th>\n",
       "      <td>1.000000</td>\n",
       "      <td>292.000000</td>\n",
       "      <td>2.000000</td>\n",
       "      <td>12.102904</td>\n",
       "    </tr>\n",
       "  </tbody>\n",
       "</table>\n",
       "</div>"
      ],
      "text/plain": [
       "         avg_score    sum_score    var_score      view_ln\n",
       "count  1107.000000  1107.000000  1107.000000  1107.000000\n",
       "mean     -0.134618    -8.688347     0.547517     6.302043\n",
       "std       0.514680    35.951111     0.412828     2.274598\n",
       "min      -1.000000  -531.000000     0.000000     0.000000\n",
       "25%      -0.408893    -5.000000     0.180556     4.564294\n",
       "50%      -0.142857    -1.000000     0.618421     6.175867\n",
       "75%       0.056796     1.000000     0.767775     8.032510\n",
       "max       1.000000   292.000000     2.000000    12.102904"
      ]
     },
     "execution_count": 183,
     "metadata": {},
     "output_type": "execute_result"
    }
   ],
   "source": [
    "###for log (ln)  ##another standardization\n",
    "from math import log\n",
    "training = sqlContext.createDataFrame(pdf)['view','sum_score','avg_score','var_score']\n",
    "training = training.rdd.map(lambda p: Row(view_ln=log(p[0]),sum_score=p[1],avg_score=p[2],var_score=p[3])).toDF()\n",
    "# training.toPandas().head()\n",
    "training.toPandas().describe()"
   ]
  },
  {
   "cell_type": "code",
   "execution_count": 169,
   "metadata": {},
   "outputs": [
    {
     "data": {
      "text/plain": [
       "[Row(label=5.6131281063880705, features=DenseVector([0.4444, 4.0, 0.7778])),\n",
       " Row(label=3.9318256327243257, features=DenseVector([1.0, 2.0, 0.0])),\n",
       " Row(label=8.59877317840866, features=DenseVector([-0.75, -9.0, 0.2045])),\n",
       " Row(label=8.216088098632316, features=DenseVector([-0.1692, -11.0, 0.6428])),\n",
       " Row(label=8.333991247194975, features=DenseVector([-0.0769, -1.0, 0.4103]))]"
      ]
     },
     "execution_count": 169,
     "metadata": {},
     "output_type": "execute_result"
    }
   ],
   "source": [
    "\n",
    "from pyspark.ml.linalg import DenseVector\n",
    "\n",
    "# Define the `input_data` \n",
    "input_data = training.rdd.map(lambda x: (x[3], DenseVector(x[0:3]))) ###avg_score  sum_score var_score\n",
    "\n",
    "# Replace `df` with the new DataFrame\n",
    "trainingDataDF = spark.createDataFrame(input_data, [\"label\", \"features\"])\n",
    "trainingDataDF.take(5)"
   ]
  },
  {
   "cell_type": "code",
   "execution_count": 170,
   "metadata": {},
   "outputs": [
    {
     "data": {
      "text/plain": [
       "[Row(label=5.6131281063880705, features=DenseVector([0.4444, 4.0, 0.7778]), features_scaled=DenseVector([0.8635, 0.1113, 1.884])),\n",
       " Row(label=3.9318256327243257, features=DenseVector([1.0, 2.0, 0.0]), features_scaled=DenseVector([1.943, 0.0556, 0.0]))]"
      ]
     },
     "execution_count": 170,
     "metadata": {},
     "output_type": "execute_result"
    }
   ],
   "source": [
    "\n",
    "\n",
    "\n",
    "# Import `StandardScaler` \n",
    "from pyspark.ml.feature import StandardScaler\n",
    "# Initialize the `standardScaler`\n",
    "standardScaler = StandardScaler(inputCol=\"features\", outputCol=\"features_scaled\")\n",
    "# Fit the DataFrame to the scaler\n",
    "scaler = standardScaler.fit(trainingDataDF)\n",
    "# Transform the data in `df` with the scaler\n",
    "scaled_df = scaler.transform(trainingDataDF)\n",
    "# Inspect the result\n",
    "scaled_df.take(2)\n"
   ]
  },
  {
   "cell_type": "code",
   "execution_count": 171,
   "metadata": {},
   "outputs": [
    {
     "name": "stdout",
     "output_type": "stream",
     "text": [
      "Coefficients: [-0.0449766178789,-0.0198293073542,1.35225763949]\n",
      "Intercept: 5.383321137739406\n",
      "Coefficient Standard Errors: [0.11251292069346497, 0.0016049491945791495, 0.13959135687598284, 0.10024036040334551]\n",
      "T Values: [-0.39974624782401275, -12.35509972599155, 9.687259080745406, 53.70412791891497]\n",
      "P Values: [0.6894208203923367, 0.0, 0.0, 0.0]\n",
      "Dispersion: 4.108811306707389\n",
      "Null Deviance: 5722.216678863546\n",
      "Residual Degree Of Freedom Null: 1106\n",
      "Deviance: 4532.01887129825\n",
      "Residual Degree Of Freedom: 1103\n",
      "AIC: 4711.861748275083\n",
      "Deviance Residuals: \n",
      "+--------------------+\n",
      "|   devianceResiduals|\n",
      "+--------------------+\n",
      "|  -0.722642135814338|\n",
      "| -1.3668602724277963|\n",
      "|  2.7266576575403416|\n",
      "|  1.7378175446642423|\n",
      "|   2.372608697345399|\n",
      "|  1.4774681341379532|\n",
      "|   -2.29227868438109|\n",
      "| -1.9614437939261835|\n",
      "|   1.018157704706014|\n",
      "|-0.22121033713754024|\n",
      "|  0.9530535733950316|\n",
      "|  0.4180570849728946|\n",
      "|  -1.516301430248189|\n",
      "|  1.9438139937914851|\n",
      "|   2.946461348225853|\n",
      "| -1.1913808274612059|\n",
      "|  0.5022761425713069|\n",
      "|  2.8725082548900858|\n",
      "|  0.6628842763987217|\n",
      "| -1.1010578352475884|\n",
      "+--------------------+\n",
      "only showing top 20 rows\n",
      "\n"
     ]
    }
   ],
   "source": [
    "\n",
    "from pyspark.ml.regression import GeneralizedLinearRegression\n",
    "\n",
    "glr = GeneralizedLinearRegression(family=\"gaussian\", link=\"identity\", maxIter=10, regParam=0.3)\n",
    "# Fit the model\n",
    "model = glr.fit(scaled_df)##you can also do this by split the data and test the model later on\n",
    "\n",
    "# Print the coefficients and intercept for generalized linear regression model\n",
    "print(\"Coefficients: \" + str(model.coefficients))\n",
    "print(\"Intercept: \" + str(model.intercept))\n",
    "\n",
    "# Summarize the model over the training set and print out some metrics\n",
    "summary = model.summary\n",
    "print(\"Coefficient Standard Errors: \" + str(summary.coefficientStandardErrors))\n",
    "print(\"T Values: \" + str(summary.tValues))\n",
    "print(\"P Values: \" + str(summary.pValues))\n",
    "print(\"Dispersion: \" + str(summary.dispersion))\n",
    "print(\"Null Deviance: \" + str(summary.nullDeviance))\n",
    "print(\"Residual Degree Of Freedom Null: \" + str(summary.residualDegreeOfFreedomNull))\n",
    "print(\"Deviance: \" + str(summary.deviance))\n",
    "print(\"Residual Degree Of Freedom: \" + str(summary.residualDegreeOfFreedom))\n",
    "print(\"AIC: \" + str(summary.aic))\n",
    "print(\"Deviance Residuals: \")\n",
    "summary.residuals().show()\n",
    "\n"
   ]
  },
  {
   "cell_type": "code",
   "execution_count": 192,
   "metadata": {},
   "outputs": [
    {
     "name": "stdout",
     "output_type": "stream",
     "text": [
      "+--------------------+---------+-------------------+------------------+\n",
      "|           avg_score|sum_score|          var_score|           view_ln|\n",
      "+--------------------+---------+-------------------+------------------+\n",
      "|  0.4444444444444444|        4| 0.7777777777777778|5.6131281063880705|\n",
      "|                 1.0|        2|                0.0|3.9318256327243257|\n",
      "|               -0.75|       -9|0.20454545454545459|  8.59877317840866|\n",
      "|-0.16923076923076924|      -11| 0.6427884615384616| 8.216088098632316|\n",
      "|-0.07692307692307693|       -1| 0.4102564102564103| 8.333991247194975|\n",
      "|                -1.0|       -1|                0.0| 6.925595197110468|\n",
      "|                 0.0|        0|                0.0| 3.091042453358316|\n",
      "|                -0.5|       -2| 1.0000000000000002| 4.836281906951478|\n",
      "|-0.11764705882352941|       -2| 0.6102941176470589| 7.271703706887368|\n",
      "|-0.06060606060606061|       -2| 0.6837121212121211| 6.129050210060545|\n",
      "|                 0.0|        0|                0.8| 7.418180822726788|\n",
      "|                 1.0|        1|                0.0| 5.736572297479192|\n",
      "|                -1.0|       -1|                0.0|3.9318256327243257|\n",
      "|                -1.0|       -6|                0.0| 7.491087593534876|\n",
      "|-0.03359683794466403|      -17| 0.6741165420889921| 9.579971027075132|\n",
      "|                 1.0|        1|                0.0| 4.127134385045092|\n",
      "|                -0.5|       -5|                0.5| 6.683360945766275|\n",
      "|  -0.288135593220339|      -17| 0.5879602571595558| 9.400960731584833|\n",
      "|                 0.0|        0| 0.5714285714285714| 6.818924065275521|\n",
      "|-0.16666666666666666|       -1| 0.9666666666666666| 5.616771097666572|\n",
      "+--------------------+---------+-------------------+------------------+\n",
      "only showing top 20 rows\n",
      "\n"
     ]
    }
   ],
   "source": [
    "# summaDF = spark.createDataFrame(summary.residualDegreeOfFreedom)\n",
    "# training = sqlContext.createDataFrame(pdf)['view','sum_score','avg_score','var_score']\n",
    "# training = training.rdd.map(lambda p: Row(view_ln=log(p[0]),sum_score=p[1],avg_score=p[2],var_score=p[3]))\n",
    "training.show()    #everytime it Row,it changes and reverse the rows"
   ]
  },
  {
   "cell_type": "markdown",
   "metadata": {},
   "source": [
    "## Decision tree regression"
   ]
  },
  {
   "cell_type": "code",
   "execution_count": 37,
   "metadata": {},
   "outputs": [
    {
     "name": "stdout",
     "output_type": "stream",
     "text": [
      "+-----------------+-----+--------------------+\n",
      "|       prediction|label|            features|\n",
      "+-----------------+-----+--------------------+\n",
      "|2331.739436619718|    3|[-1.0,-0.33333334...|\n",
      "|2331.739436619718|    7|[-4.0,-0.40000000...|\n",
      "|437.5159010600707|    9|     [-1.0,-1.0,0.0]|\n",
      "|437.5159010600707|   11|     [-1.0,-1.0,0.0]|\n",
      "|437.5159010600707|   11|     [-1.0,-1.0,0.0]|\n",
      "+-----------------+-----+--------------------+\n",
      "only showing top 5 rows\n",
      "\n",
      "Root Mean Squared Error (RMSE) on test data = 10592.7\n",
      "DecisionTreeRegressionModel (uid=DecisionTreeRegressor_4dfa836e1e13aee0fa09) of depth 5 with 59 nodes\n"
     ]
    }
   ],
   "source": [
    "from pyspark.ml import Pipeline\n",
    "from pyspark.ml.regression import DecisionTreeRegressor\n",
    "from pyspark.ml.feature import VectorIndexer\n",
    "from pyspark.ml.evaluation import RegressionEvaluator\n",
    "\n",
    "# Load the data\n",
    "data = scaled_df\n",
    "\n",
    "# Automatically identify categorical features, and index them.\n",
    "# We specify maxCategories so features with > 4 distinct values are treated as continuous.\n",
    "featureIndexer =\\\n",
    "    VectorIndexer(inputCol=\"features\", outputCol=\"indexedFeatures\", maxCategories=4).fit(data)\n",
    "# Split the data into training and test sets (30% held out for testing)\n",
    "(trainingData, testData) = data.randomSplit([0.7, 0.3])\n",
    "# Train a DecisionTree model.\n",
    "dt = DecisionTreeRegressor(featuresCol=\"indexedFeatures\")\n",
    "# Chain indexer and tree in a Pipeline\n",
    "pipeline = Pipeline(stages=[featureIndexer, dt])\n",
    "# Train model.  This also runs the indexer.\n",
    "model = pipeline.fit(trainingData)\n",
    "# Make predictions.\n",
    "predictions = model.transform(testData)\n",
    "# Select example rows to display.\n",
    "predictions.select(\"prediction\", \"label\", \"features\").show(5)\n",
    "# Select (prediction, true label) and compute test error\n",
    "evaluator = RegressionEvaluator(\n",
    "    labelCol=\"label\", predictionCol=\"prediction\", metricName=\"rmse\")\n",
    "rmse = evaluator.evaluate(predictions)\n",
    "print(\"Root Mean Squared Error (RMSE) on test data = %g\" % rmse)\n",
    "treeModel = model.stages[1]\n",
    "# summary only\n",
    "print(treeModel)"
   ]
  },
  {
   "cell_type": "code",
   "execution_count": null,
   "metadata": {
    "collapsed": true
   },
   "outputs": [],
   "source": []
  },
  {
   "cell_type": "code",
   "execution_count": null,
   "metadata": {
    "collapsed": true
   },
   "outputs": [],
   "source": []
  },
  {
   "cell_type": "markdown",
   "metadata": {},
   "source": [
    "## Random forest regression"
   ]
  },
  {
   "cell_type": "code",
   "execution_count": 38,
   "metadata": {},
   "outputs": [
    {
     "name": "stdout",
     "output_type": "stream",
     "text": [
      "+------------------+-----+--------------------+\n",
      "|        prediction|label|            features|\n",
      "+------------------+-----+--------------------+\n",
      "|5830.0086319347665|    7|[-4.0,-0.40000000...|\n",
      "|349.24900934024896|   12|     [-1.0,-1.0,0.0]|\n",
      "|349.24900934024896|   13|     [-1.0,-1.0,0.0]|\n",
      "| 861.0950122751503|   14|   [-3.0,-0.75,0.25]|\n",
      "|349.24900934024896|   15|     [-1.0,-1.0,0.0]|\n",
      "+------------------+-----+--------------------+\n",
      "only showing top 5 rows\n",
      "\n",
      "Root Mean Squared Error (RMSE) on test data = 11846.7\n",
      "RandomForestRegressionModel (uid=RandomForestRegressor_4f0790a3b202ae0fbe99) with 20 trees\n"
     ]
    }
   ],
   "source": [
    "from pyspark.ml import Pipeline\n",
    "from pyspark.ml.regression import RandomForestRegressor\n",
    "from pyspark.ml.feature import VectorIndexer\n",
    "from pyspark.ml.evaluation import RegressionEvaluator\n",
    "\n",
    "# Load and parse the data file, converting it to a DataFrame.\n",
    "data = scaled_df\n",
    "\n",
    "# Automatically identify categorical features, and index them.\n",
    "# Set maxCategories so features with > 4 distinct values are treated as continuous.\n",
    "featureIndexer =\\\n",
    "    VectorIndexer(inputCol=\"features\", outputCol=\"indexedFeatures\", maxCategories=4).fit(data)\n",
    "# Split the data into training and test sets (30% held out for testing)\n",
    "(trainingData, testData) = data.randomSplit([0.7, 0.3])\n",
    "# Train a RandomForest model.\n",
    "rf = RandomForestRegressor(featuresCol=\"indexedFeatures\")\n",
    "# Chain indexer and forest in a Pipeline\n",
    "pipeline = Pipeline(stages=[featureIndexer, rf])\n",
    "# Train model.  This also runs the indexer.\n",
    "model = pipeline.fit(trainingData)\n",
    "# Make predictions.\n",
    "predictions = model.transform(testData)\n",
    "# Select example rows to display.\n",
    "predictions.select(\"prediction\", \"label\", \"features\").show(5)\n",
    "# Select (prediction, true label) and compute test error\n",
    "evaluator = RegressionEvaluator(\n",
    "    labelCol=\"label\", predictionCol=\"prediction\", metricName=\"rmse\")\n",
    "rmse = evaluator.evaluate(predictions)\n",
    "print(\"Root Mean Squared Error (RMSE) on test data = %g\" % rmse)\n",
    "rfModel = model.stages[1]\n",
    "print(rfModel)  # summary only"
   ]
  },
  {
   "cell_type": "code",
   "execution_count": null,
   "metadata": {
    "collapsed": true
   },
   "outputs": [],
   "source": []
  },
  {
   "cell_type": "code",
   "execution_count": null,
   "metadata": {
    "collapsed": true
   },
   "outputs": [],
   "source": []
  },
  {
   "cell_type": "markdown",
   "metadata": {},
   "source": [
    "## Gradient-boosted tree regression"
   ]
  },
  {
   "cell_type": "code",
   "execution_count": 39,
   "metadata": {},
   "outputs": [
    {
     "name": "stdout",
     "output_type": "stream",
     "text": [
      "+------------------+-----+-----------------+\n",
      "|        prediction|label|         features|\n",
      "+------------------+-----+-----------------+\n",
      "|394.33214581789554|    7|  [-1.0,-1.0,0.0]|\n",
      "| 634.9611951565089|   11|    [1.0,1.0,0.0]|\n",
      "| 1627.003146977776|   14|[-3.0,-0.75,0.25]|\n",
      "| 634.9611951565089|   14|    [1.0,1.0,0.0]|\n",
      "|1230.9353567390156|   15|    [0.0,0.0,0.0]|\n",
      "+------------------+-----+-----------------+\n",
      "only showing top 5 rows\n",
      "\n",
      "Root Mean Squared Error (RMSE) on test data = 12164.8\n",
      "GBTRegressionModel (uid=GBTRegressor_4366a02e34e83cb1c20b) with 10 trees\n"
     ]
    }
   ],
   "source": [
    "from pyspark.ml import Pipeline\n",
    "from pyspark.ml.regression import GBTRegressor\n",
    "from pyspark.ml.feature import VectorIndexer\n",
    "from pyspark.ml.evaluation import RegressionEvaluator\n",
    "\n",
    "# Load and parse the data file, converting it to a DataFrame.\n",
    "data = scaled_df\n",
    "\n",
    "# Automatically identify categorical features, and index them.\n",
    "# Set maxCategories so features with > 4 distinct values are treated as continuous.\n",
    "featureIndexer =\\\n",
    "    VectorIndexer(inputCol=\"features\", outputCol=\"indexedFeatures\", maxCategories=4).fit(data)\n",
    "# Split the data into training and test sets (30% held out for testing)\n",
    "(trainingData, testData) = data.randomSplit([0.7, 0.3])\n",
    "# Train a GBT model.\n",
    "gbt = GBTRegressor(featuresCol=\"indexedFeatures\", maxIter=10)\n",
    "# Chain indexer and GBT in a Pipeline\n",
    "pipeline = Pipeline(stages=[featureIndexer, gbt])\n",
    "# Train model.  This also runs the indexer.\n",
    "model = pipeline.fit(trainingData)\n",
    "# Make predictions.\n",
    "predictions = model.transform(testData)\n",
    "# Select example rows to display.\n",
    "predictions.select(\"prediction\", \"label\", \"features\").show(5)\n",
    "# Select (prediction, true label) and compute test error\n",
    "evaluator = RegressionEvaluator(\n",
    "    labelCol=\"label\", predictionCol=\"prediction\", metricName=\"rmse\")\n",
    "rmse = evaluator.evaluate(predictions)\n",
    "print(\"Root Mean Squared Error (RMSE) on test data = %g\" % rmse)\n",
    "gbtModel = model.stages[1]\n",
    "print(gbtModel)  # summary only"
   ]
  },
  {
   "cell_type": "code",
   "execution_count": null,
   "metadata": {
    "collapsed": true
   },
   "outputs": [],
   "source": []
  },
  {
   "cell_type": "code",
   "execution_count": null,
   "metadata": {
    "collapsed": true
   },
   "outputs": [],
   "source": []
  },
  {
   "cell_type": "code",
   "execution_count": null,
   "metadata": {
    "collapsed": true
   },
   "outputs": [],
   "source": []
  },
  {
   "cell_type": "code",
   "execution_count": null,
   "metadata": {
    "collapsed": true
   },
   "outputs": [],
   "source": []
  },
  {
   "cell_type": "code",
   "execution_count": null,
   "metadata": {
    "collapsed": true
   },
   "outputs": [],
   "source": []
  },
  {
   "cell_type": "code",
   "execution_count": null,
   "metadata": {
    "collapsed": true
   },
   "outputs": [],
   "source": []
  },
  {
   "cell_type": "markdown",
   "metadata": {},
   "source": [
    "# 8.不同时点的情感评分"
   ]
  },
  {
   "cell_type": "code",
   "execution_count": null,
   "metadata": {
    "collapsed": true
   },
   "outputs": [],
   "source": []
  },
  {
   "cell_type": "code",
   "execution_count": null,
   "metadata": {
    "collapsed": true
   },
   "outputs": [],
   "source": []
  },
  {
   "cell_type": "code",
   "execution_count": null,
   "metadata": {
    "collapsed": true
   },
   "outputs": [],
   "source": []
  },
  {
   "cell_type": "markdown",
   "metadata": {
    "collapsed": true
   },
   "source": []
  },
  {
   "cell_type": "code",
   "execution_count": 40,
   "metadata": {
    "collapsed": true
   },
   "outputs": [],
   "source": [
    "# pip install wordcloud\n",
    "# conda install -c https://conda.anaconda.org/amueller wordcloud"
   ]
  },
  {
   "cell_type": "code",
   "execution_count": null,
   "metadata": {
    "collapsed": true
   },
   "outputs": [],
   "source": []
  },
  {
   "cell_type": "markdown",
   "metadata": {
    "collapsed": true
   },
   "source": [
    "## timeline"
   ]
  },
  {
   "cell_type": "code",
   "execution_count": 41,
   "metadata": {},
   "outputs": [
    {
     "data": {
      "text/plain": [
       "60577"
      ]
     },
     "execution_count": 41,
     "metadata": {},
     "output_type": "execute_result"
    }
   ],
   "source": [
    "len(scoreList)"
   ]
  },
  {
   "cell_type": "code",
   "execution_count": 42,
   "metadata": {},
   "outputs": [
    {
     "name": "stdout",
     "output_type": "stream",
     "text": [
      "60577\n",
      "DataFrame[scoreList: bigint, timeList: string]\n",
      "Row(scoreList=-1, timeList='2017-09-08 04:41')\n"
     ]
    }
   ],
   "source": [
    "# from pyspark.sql.functions import * (or as F)\n",
    "import pandas as pd\n",
    "from pyspark.sql.types import DateType\n",
    "\n",
    "timeList = MsgDF.select(\"ctime\").rdd.flatMap(lambda x: x).collect()\n",
    "print(len(timeList))\n",
    "timeLinePD = pd.DataFrame({'scoreList': scoreList,'timeList': timeList})\n",
    "timeLine = sqlContext.createDataFrame(timeLinePD)\n",
    "# timeLine = timeLine.withColumn(\"timeList\", timeLine[\"timeList\"].cast(DateType())) #would be none\n",
    "print(timeLine)\n",
    "print(timeLine.head())"
   ]
  },
  {
   "cell_type": "code",
   "execution_count": 43,
   "metadata": {
    "scrolled": true
   },
   "outputs": [
    {
     "name": "stdout",
     "output_type": "stream",
     "text": [
      "+----+-----+\n",
      "|hour|score|\n",
      "+----+-----+\n",
      "|   4|   -1|\n",
      "|   5|    0|\n",
      "|   5|    0|\n",
      "|   4|    0|\n",
      "|  12|   -1|\n",
      "|  12|   -1|\n",
      "|  13|   -1|\n",
      "|  14|    0|\n",
      "|  14|    1|\n",
      "|  14|    1|\n",
      "|  14|   -1|\n",
      "|  15|   -1|\n",
      "|  16|   -1|\n",
      "|  16|    1|\n",
      "|  16|    1|\n",
      "|  16|   -1|\n",
      "|  16|    1|\n",
      "|  16|    0|\n",
      "|  16|    0|\n",
      "|  16|    0|\n",
      "+----+-----+\n",
      "only showing top 20 rows\n",
      "\n"
     ]
    }
   ],
   "source": [
    "# yearList = timeLine.select(F.year('timeList').alias('year')).rdd.flatMap(lambda x: x).collect()\n",
    "# monthList = timeLine.select(F.month('timeList').alias('month')).rdd.flatMap(lambda x: x).collect()\n",
    "# dayList = timeLine.select(F.dayofmonth('timeList').alias('day')).rdd.flatMap(lambda x: x).collect()\n",
    "# hourList = timeLine.select(F.hour('timeList').alias('hour')).rdd.flatMap(lambda x: x).collect()\n",
    "# alltimePD = pd.DataFrame({'score': scoreList,'year': yearList,'month': monthList,'day': dayList,'hour': hourList})\n",
    "# alltimePD.head()\n",
    "# timeLine.select(F.hour('timeList').alias('hour')).take(2)# this doesn'twork\n",
    "# hsDF = sqlContext.createDataFrame(alltimePD)['score','hour']\n",
    "# # hsDF = sqlContext.createDataFrame(alltimePD['score','hour']) # this doesn'twork\n",
    "\n",
    "hourList = timeLine.select(F.hour('timeList').alias('hour')).rdd.flatMap(lambda x: x).collect()\n",
    "hsDF = sqlContext.createDataFrame(pd.DataFrame({'score': scoreList,'hour': hourList}))\n",
    "hsDF.show()"
   ]
  },
  {
   "cell_type": "markdown",
   "metadata": {},
   "source": [
    "### 时间"
   ]
  },
  {
   "cell_type": "code",
   "execution_count": 44,
   "metadata": {},
   "outputs": [
    {
     "data": {
      "text/html": [
       "<div>\n",
       "<style>\n",
       "    .dataframe thead tr:only-child th {\n",
       "        text-align: right;\n",
       "    }\n",
       "\n",
       "    .dataframe thead th {\n",
       "        text-align: left;\n",
       "    }\n",
       "\n",
       "    .dataframe tbody tr th {\n",
       "        vertical-align: top;\n",
       "    }\n",
       "</style>\n",
       "<table border=\"1\" class=\"dataframe\">\n",
       "  <thead>\n",
       "    <tr style=\"text-align: right;\">\n",
       "      <th></th>\n",
       "      <th>hour</th>\n",
       "      <th>var_score</th>\n",
       "    </tr>\n",
       "  </thead>\n",
       "  <tbody>\n",
       "    <tr>\n",
       "      <th>0</th>\n",
       "      <td>0</td>\n",
       "      <td>0.707717</td>\n",
       "    </tr>\n",
       "    <tr>\n",
       "      <th>1</th>\n",
       "      <td>1</td>\n",
       "      <td>0.691619</td>\n",
       "    </tr>\n",
       "    <tr>\n",
       "      <th>2</th>\n",
       "      <td>2</td>\n",
       "      <td>0.703891</td>\n",
       "    </tr>\n",
       "    <tr>\n",
       "      <th>3</th>\n",
       "      <td>3</td>\n",
       "      <td>0.682330</td>\n",
       "    </tr>\n",
       "    <tr>\n",
       "      <th>4</th>\n",
       "      <td>4</td>\n",
       "      <td>0.693482</td>\n",
       "    </tr>\n",
       "  </tbody>\n",
       "</table>\n",
       "</div>"
      ],
      "text/plain": [
       "   hour  var_score\n",
       "0     0   0.707717\n",
       "1     1   0.691619\n",
       "2     2   0.703891\n",
       "3     3   0.682330\n",
       "4     4   0.693482"
      ]
     },
     "execution_count": 44,
     "metadata": {},
     "output_type": "execute_result"
    }
   ],
   "source": [
    "# \n",
    "\n",
    "import pyspark.sql.functions as F\n",
    "hsavgPD=hsDF.groupBy('hour').agg({'score': 'mean'}).alias('avg_score').orderBy(\"hour\").rdd.map(lambda line: Row(hour = line[0],avg_score = line[1])).toDF().toPandas()\n",
    "# hssumPD=hsDF.groupBy('hour').agg({'score': 'sum'}).orderBy(\"hour\").rdd.map(lambda line: Row(hour = line[0],sum_score = line[1])).toDF().toPandas()\n",
    "hsvarPD=hsDF.groupBy('hour').agg(F.variance(hsDF.score)).orderBy(\"hour\").rdd.map(lambda line: Row(hour = line[0],var_score = line[1])).toDF().toPandas()\n",
    "hsvarPD.head()"
   ]
  },
  {
   "cell_type": "code",
   "execution_count": 72,
   "metadata": {
    "scrolled": true
   },
   "outputs": [
    {
     "data": {
      "image/png": "[encoded data removed]",
      "text/plain": [
       "<matplotlib.figure.Figure at 0x28dfa969e10>"
      ]
     },
     "metadata": {},
     "output_type": "display_data"
    }
   ],
   "source": [
    "#1 hsavgPD \n",
    "# from pandas import *\n",
    "import datetime\n",
    "x = hsavgPD['hour']\n",
    "# y=hsavgPD['avg_score'].tolist()\n",
    "y=hsavgPD['avg_score']\n",
    "font = {'family': 'serif',\n",
    "        'color':  'darkred',\n",
    "        'weight': 'normal',\n",
    "        'size': 16,\n",
    "        }\n",
    "# x = np.linspace(0.0, 5.0, 100)\n",
    "# y = np.cos(2*np.pi*x) * np.exp(-x)\n",
    "plt.plot(x, y, 'k')\n",
    "plt.title('How Sentiment Scores Change with Time', fontdict=font)\n",
    "# plt.text(2, 0.65, r'$\\cos(2 \\pi t) \\exp(-t)$', fontdict=font)\n",
    "plt.text(13, -0.130, r'$Average$', fontdict=font)\n",
    "plt.xlabel('Hour (s)', fontdict=font)\n",
    "plt.ylabel('Average Socre', fontdict=font)\n",
    "\n",
    "# Tweak spacing to prevent clipping of ylabel\n",
    "plt.subplots_adjust(left=0.15)\n",
    "plt.show()"
   ]
  },
  {
   "cell_type": "code",
   "execution_count": 70,
   "metadata": {},
   "outputs": [
    {
     "data": {
      "image/png": "[encoded data removed]",
      "text/plain": [
       "<matplotlib.figure.Figure at 0x28dfbc36860>"
      ]
     },
     "metadata": {},
     "output_type": "display_data"
    }
   ],
   "source": [
    "#2 hsvarPD\n",
    "# from pandas import *\n",
    "import datetime\n",
    "x = hsvarPD['hour']\n",
    "# y=hsavgPD['avg_score'].tolist()\n",
    "y=hsvarPD['var_score']\n",
    "font = {'family': 'serif',\n",
    "        'weight': 'normal',\n",
    "        'size': 16,\n",
    "        }\n",
    "# plt.style.use('fivethirtyeight')\n",
    "plt.style.use('ggplot')\n",
    "# x = np.linspace(0.0, 5.0, 100)\n",
    "# y = np.cos(2*np.pi*x) * np.exp(-x)\n",
    "plt.plot(x, y, 'k')\n",
    "plt.title('How Sentiment Scores Change with Time', fontdict=font)\n",
    "# plt.text(2, 0.65, r'$\\cos(2 \\pi t) \\exp(-t)$', fontdict=font)\n",
    "plt.xlabel('Hour (s)', fontdict=font)\n",
    "plt.ylabel(' Variance of Socre', fontdict=font)\n",
    "plt.text(13, 0.74, r'$Variance$', fontdict=font)\n",
    "\n",
    "# Tweak spacing to prevent clipping of ylabel\n",
    "# plt.subplots_adjust(left=0.15)\n",
    "plt.show()"
   ]
  },
  {
   "cell_type": "code",
   "execution_count": 47,
   "metadata": {},
   "outputs": [
    {
     "data": {
      "image/png": "[encoded data removed]",
      "text/plain": [
       "<matplotlib.figure.Figure at 0x28dfbc8d668>"
      ]
     },
     "metadata": {},
     "output_type": "display_data"
    }
   ],
   "source": [
    "from matplotlib import pyplot as plt\n",
    "import numpy as np\n",
    "\n",
    "\n",
    "plt.style.use('fivethirtyeight')\n",
    "\n",
    "x = hsvarPD['hour']\n",
    "y1=hsvarPD['var_score']\n",
    "y2=hsavgPD['avg_score']\n",
    "# Fixing random state for reproducibility\n",
    "np.random.seed(19680801)\n",
    "\n",
    "fig, ax = plt.subplots()\n",
    "font = {'family': 'serif',\n",
    "        'weight': 'normal',\n",
    "        'size': 16,\n",
    "        }\n",
    "ax.plot(x, y1)\n",
    "ax.plot(x, y2)\n",
    "# ax.plot(x, np.sin(x) + 2 * x + np.random.randn(50))\n",
    "# ax.plot(x, np.sin(x) - 0.5 * x + np.random.randn(50))\n",
    "# ax.plot(x, np.sin(x) - 2 * x + np.random.randn(50))\n",
    "# ax.plot(x, np.sin(x) + np.random.randn(50))\n",
    "ax.set_title(\"'How Sentiment Scores Change with Time'\")\n",
    "plt.text(15, 0.45, r'$mean$', fontdict=font)\n",
    "plt.text(15, 0.27, r'$variance$', fontdict=font)\n",
    "plt.xlabel('hours (time)', fontdict=font)\n",
    "plt.ylabel(' variance of  socre', fontdict=font)\n",
    "plt.show()"
   ]
  },
  {
   "cell_type": "code",
   "execution_count": 56,
   "metadata": {},
   "outputs": [
    {
     "data": {
      "text/html": [
       "<div>\n",
       "<style>\n",
       "    .dataframe thead tr:only-child th {\n",
       "        text-align: right;\n",
       "    }\n",
       "\n",
       "    .dataframe thead th {\n",
       "        text-align: left;\n",
       "    }\n",
       "\n",
       "    .dataframe tbody tr th {\n",
       "        vertical-align: top;\n",
       "    }\n",
       "</style>\n",
       "<table border=\"1\" class=\"dataframe\">\n",
       "  <thead>\n",
       "    <tr style=\"text-align: right;\">\n",
       "      <th></th>\n",
       "      <th>hour</th>\n",
       "      <th>count</th>\n",
       "    </tr>\n",
       "  </thead>\n",
       "  <tbody>\n",
       "    <tr>\n",
       "      <th>0</th>\n",
       "      <td>0</td>\n",
       "      <td>777</td>\n",
       "    </tr>\n",
       "    <tr>\n",
       "      <th>1</th>\n",
       "      <td>1</td>\n",
       "      <td>881</td>\n",
       "    </tr>\n",
       "    <tr>\n",
       "      <th>2</th>\n",
       "      <td>2</td>\n",
       "      <td>1050</td>\n",
       "    </tr>\n",
       "    <tr>\n",
       "      <th>3</th>\n",
       "      <td>3</td>\n",
       "      <td>1139</td>\n",
       "    </tr>\n",
       "    <tr>\n",
       "      <th>4</th>\n",
       "      <td>4</td>\n",
       "      <td>1292</td>\n",
       "    </tr>\n",
       "  </tbody>\n",
       "</table>\n",
       "</div>"
      ],
      "text/plain": [
       "   hour  count\n",
       "0     0    777\n",
       "1     1    881\n",
       "2     2   1050\n",
       "3     3   1139\n",
       "4     4   1292"
      ]
     },
     "execution_count": 56,
     "metadata": {},
     "output_type": "execute_result"
    }
   ],
   "source": [
    "# countDF = hsDF.groupBy(\"hour\",\"score\").count().orderBy(\"hour\")\n",
    "# c0_hourPD = countDF.select('hour','count').where(\"score = 0\").orderBy(\"hour\").toPandas()        #or df.age == 2\n",
    "# c1_hourPD = countDF.select('hour','count').where(\"score = 1\").orderBy(\"hour\").toPandas() \n",
    "cN_hourPD = countDF.select('hour','count').where(\"score = -1\").orderBy(\"hour\").toPandas() \n",
    "cN_hourPD.head()\n"
   ]
  },
  {
   "cell_type": "code",
   "execution_count": 69,
   "metadata": {
    "scrolled": true
   },
   "outputs": [
    {
     "data": {
      "image/png": "[encoded data removed]",
      "text/plain": [
       "<matplotlib.figure.Figure at 0x28d8185f550>"
      ]
     },
     "metadata": {},
     "output_type": "display_data"
    }
   ],
   "source": [
    "from matplotlib import pyplot as plt\n",
    "import numpy as np\n",
    "\n",
    "\n",
    "plt.style.use('fivethirtyeight')\n",
    "\n",
    "x1 = c0_hourPD['hour']\n",
    "x2 = c1_hourPD['hour']\n",
    "x3 = cN_hourPD['hour']\n",
    "y1=c0_hourPD['count']\n",
    "y2=c1_hourPD['count']\n",
    "y3 = cN_hourPD['count']\n",
    "# Fixing random state for reproducibility\n",
    "np.random.seed(19680801)\n",
    "\n",
    "fig, ax = plt.subplots()\n",
    "font = {'family': 'serif',\n",
    "        'weight': 'normal',\n",
    "        'size': 16,\n",
    "        }\n",
    "ax.plot(x1, y1)#blue\n",
    "ax.plot(x2, y2)#red\n",
    "ax.plot(x3, y3)\n",
    "# ax.plot(x, np.sin(x) + 2 * x + np.random.randn(50))\n",
    "# ax.plot(x, np.sin(x) - 0.5 * x + np.random.randn(50))\n",
    "# ax.plot(x, np.sin(x) - 2 * x + np.random.randn(50))\n",
    "# ax.plot(x, np.sin(x) + np.random.randn(50))\n",
    "ax.set_title(\"'How Sentiment Scores Change with Time'\")\n",
    "plt.text(12, 800, r'$Positive(red)$', fontdict=font)\n",
    "plt.text(13, 1100, r'$Neutral$', fontdict=font)\n",
    "plt.text(13, 1600, r'$Negative$', fontdict=font)\n",
    "plt.xlabel('Hours (time)', fontdict=font)\n",
    "plt.ylabel('Counts of Replies ', fontdict=font)\n",
    "plt.show()"
   ]
  },
  {
   "cell_type": "code",
   "execution_count": 97,
   "metadata": {},
   "outputs": [
    {
     "data": {
      "text/plain": [
       "[Row(scoreList=-1, timeList='2017-09-08 04:41'),\n",
       " Row(scoreList=0, timeList='2017-09-08 05:02')]"
      ]
     },
     "execution_count": 97,
     "metadata": {},
     "output_type": "execute_result"
    }
   ],
   "source": [
    "timeLine.take(2)"
   ]
  },
  {
   "cell_type": "markdown",
   "metadata": {},
   "source": [
    "### 日期"
   ]
  },
  {
   "cell_type": "code",
   "execution_count": 50,
   "metadata": {},
   "outputs": [
    {
     "name": "stdout",
     "output_type": "stream",
     "text": [
      "+----------+-----+\n",
      "|      date|score|\n",
      "+----------+-----+\n",
      "|2017-09-08|   -1|\n",
      "|2017-09-08|    0|\n",
      "|2017-09-08|    0|\n",
      "|2017-09-09|    0|\n",
      "|2017-09-09|   -1|\n",
      "|2017-09-09|   -1|\n",
      "|2017-09-09|   -1|\n",
      "|2017-09-09|    0|\n",
      "|2017-09-09|    1|\n",
      "|2017-09-09|    1|\n",
      "|2017-09-09|   -1|\n",
      "|2017-09-09|   -1|\n",
      "|2017-09-09|   -1|\n",
      "|2017-09-09|    1|\n",
      "|2017-09-09|    1|\n",
      "|2017-09-09|   -1|\n",
      "|2017-09-09|    1|\n",
      "|2017-09-09|    0|\n",
      "|2017-09-09|    0|\n",
      "|2017-09-09|    0|\n",
      "+----------+-----+\n",
      "only showing top 20 rows\n",
      "\n"
     ]
    }
   ],
   "source": [
    "dateLine = timeLine.rdd.map(lambda p: Row(score=int(p[0]),date=p[1][:10])).toDF()\n",
    "dateLine.show()"
   ]
  },
  {
   "cell_type": "code",
   "execution_count": 51,
   "metadata": {},
   "outputs": [
    {
     "data": {
      "text/html": [
       "<div>\n",
       "<style>\n",
       "    .dataframe thead tr:only-child th {\n",
       "        text-align: right;\n",
       "    }\n",
       "\n",
       "    .dataframe thead th {\n",
       "        text-align: left;\n",
       "    }\n",
       "\n",
       "    .dataframe tbody tr th {\n",
       "        vertical-align: top;\n",
       "    }\n",
       "</style>\n",
       "<table border=\"1\" class=\"dataframe\">\n",
       "  <thead>\n",
       "    <tr style=\"text-align: right;\">\n",
       "      <th></th>\n",
       "      <th>date</th>\n",
       "      <th>var_score</th>\n",
       "    </tr>\n",
       "  </thead>\n",
       "  <tbody>\n",
       "    <tr>\n",
       "      <th>0</th>\n",
       "      <td>2017-09-07</td>\n",
       "      <td>0.701316</td>\n",
       "    </tr>\n",
       "    <tr>\n",
       "      <th>1</th>\n",
       "      <td>2017-09-08</td>\n",
       "      <td>0.678293</td>\n",
       "    </tr>\n",
       "    <tr>\n",
       "      <th>2</th>\n",
       "      <td>2017-09-09</td>\n",
       "      <td>0.704679</td>\n",
       "    </tr>\n",
       "    <tr>\n",
       "      <th>3</th>\n",
       "      <td>2017-09-10</td>\n",
       "      <td>0.722040</td>\n",
       "    </tr>\n",
       "  </tbody>\n",
       "</table>\n",
       "</div>"
      ],
      "text/plain": [
       "         date  var_score\n",
       "0  2017-09-07   0.701316\n",
       "1  2017-09-08   0.678293\n",
       "2  2017-09-09   0.704679\n",
       "3  2017-09-10   0.722040"
      ]
     },
     "execution_count": 51,
     "metadata": {},
     "output_type": "execute_result"
    }
   ],
   "source": [
    "import pyspark.sql.functions as F\n",
    "dtavgPD=dateLine.groupBy('date').agg({'score': 'mean'}).alias('avg_score').orderBy(\"date\").rdd.map(lambda line: Row(date = line[0],avg_score = line[1])).toDF().toPandas()\n",
    "# dtsumPD=dateLine.groupBy('date').agg({'score': 'sum'}).orderBy(\"date\").rdd.map(lambda line: Row(hour = line[0],sum_score = line[1])).toDF().toPandas()\n",
    "dtvarPD=dateLine.groupBy('date').agg(F.variance(dateLine.score)).orderBy(\"date\").rdd.map(lambda line: Row(date = line[0],var_score = line[1])).toDF().toPandas()\n",
    "dtvarPD.head()\n"
   ]
  },
  {
   "cell_type": "code",
   "execution_count": 52,
   "metadata": {},
   "outputs": [
    {
     "data": {
      "text/plain": [
       "[Row(date='2017-09-07', score=0, count=6549),\n",
       " Row(date='2017-09-07', score=-1, count=10011)]"
      ]
     },
     "execution_count": 52,
     "metadata": {},
     "output_type": "execute_result"
    }
   ],
   "source": [
    "DatecountDF = dateLine.groupBy(\"date\",\"score\").count().orderBy(\"date\")\n",
    "DatecountDF.take(2)"
   ]
  },
  {
   "cell_type": "code",
   "execution_count": 81,
   "metadata": {},
   "outputs": [
    {
     "data": {
      "text/html": [
       "<div>\n",
       "<style>\n",
       "    .dataframe thead tr:only-child th {\n",
       "        text-align: right;\n",
       "    }\n",
       "\n",
       "    .dataframe thead th {\n",
       "        text-align: left;\n",
       "    }\n",
       "\n",
       "    .dataframe tbody tr th {\n",
       "        vertical-align: top;\n",
       "    }\n",
       "</style>\n",
       "<table border=\"1\" class=\"dataframe\">\n",
       "  <thead>\n",
       "    <tr style=\"text-align: right;\">\n",
       "      <th></th>\n",
       "      <th>date</th>\n",
       "      <th>count</th>\n",
       "    </tr>\n",
       "  </thead>\n",
       "  <tbody>\n",
       "    <tr>\n",
       "      <th>0</th>\n",
       "      <td>2017-09-07</td>\n",
       "      <td>10011</td>\n",
       "    </tr>\n",
       "    <tr>\n",
       "      <th>1</th>\n",
       "      <td>2017-09-08</td>\n",
       "      <td>6833</td>\n",
       "    </tr>\n",
       "    <tr>\n",
       "      <th>2</th>\n",
       "      <td>2017-09-09</td>\n",
       "      <td>6493</td>\n",
       "    </tr>\n",
       "    <tr>\n",
       "      <th>3</th>\n",
       "      <td>2017-09-10</td>\n",
       "      <td>3517</td>\n",
       "    </tr>\n",
       "  </tbody>\n",
       "</table>\n",
       "</div>"
      ],
      "text/plain": [
       "         date  count\n",
       "0  2017-09-07  10011\n",
       "1  2017-09-08   6833\n",
       "2  2017-09-09   6493\n",
       "3  2017-09-10   3517"
      ]
     },
     "execution_count": 81,
     "metadata": {},
     "output_type": "execute_result"
    }
   ],
   "source": [
    "c0_datePD = DatecountDF.select('date','count').where(\"score = 0\").orderBy(\"date\").toPandas()        #or df.age == 2\n",
    "c1_datePD = DatecountDF.select('date','count').where(\"score = 1\").orderBy(\"date\").toPandas() \n",
    "cN_datePD = DatecountDF.select('date','count').where(\"score = -1\").orderBy(\"date\").toPandas() \n",
    "cN_datePD.head()"
   ]
  },
  {
   "cell_type": "code",
   "execution_count": null,
   "metadata": {
    "collapsed": true
   },
   "outputs": [],
   "source": []
  },
  {
   "cell_type": "code",
   "execution_count": null,
   "metadata": {
    "collapsed": true
   },
   "outputs": [],
   "source": []
  },
  {
   "cell_type": "code",
   "execution_count": 191,
   "metadata": {},
   "outputs": [
    {
     "data": {
      "image/png": "[encoded data removed]",
      "text/plain": [
       "<matplotlib.figure.Figure at 0x28d841dd1d0>"
      ]
     },
     "metadata": {},
     "output_type": "display_data"
    }
   ],
   "source": [
    "from matplotlib import pyplot as plt\n",
    "import numpy as np\n",
    "\n",
    "\n",
    "plt.style.use('fivethirtyeight')\n",
    "\n",
    "x1 = c0_datePD['date']\n",
    "x2 = c1_datePD['date']\n",
    "x3 = cN_datePD['date']\n",
    "y1 = c0_datePD['count']\n",
    "y2 = c1_datePD['count']\n",
    "y3 = cN_datePD['count']\n",
    "# Fixing random state for reproducibility\n",
    "np.random.seed(19680801)\n",
    "\n",
    "font = {'family': 'serif',\n",
    "        'weight': 'normal',\n",
    "        'size': 6,\n",
    "        }\n",
    "plt.figure(figsize=(9,6))\n",
    "plt.plot_date(x=x1, y=y1, fmt='k--',label='Neutral')\n",
    "plt.plot_date(x=x2, y=y2, fmt='--', label='Positive')\n",
    "plt.plot_date(x=x3, y=y3, fmt=\"r-\", label='Negative')\n",
    "plt.title(\"'How Sentiment Scores Change with Time'\")\n",
    "plt.ylabel(\"Counts\")\n",
    "plt.legend(loc='upper right')\n",
    "plt.grid(True)\n",
    "plt.show()"
   ]
  },
  {
   "cell_type": "code",
   "execution_count": 105,
   "metadata": {},
   "outputs": [
    {
     "data": {
      "image/png": "[encoded data removed]",
      "text/plain": [
       "<matplotlib.figure.Figure at 0x28d840e4358>"
      ]
     },
     "metadata": {},
     "output_type": "display_data"
    }
   ],
   "source": [
    "from matplotlib import pyplot as plt\n",
    "import numpy as np\n",
    "\n",
    "\n",
    "plt.style.use('fivethirtyeight')\n",
    "\n",
    "x1 = dtvarPD['date']\n",
    "y1 = dtvarPD['var_score']\n",
    "# Fixing random state for reproducibility\n",
    "np.random.seed(19680801)\n",
    "\n",
    "# fig, ax = plt.subplots()\n",
    "font = {'family': 'serif',\n",
    "        'weight': 'normal',\n",
    "        'size': 26,\n",
    "        }\n",
    "# ax.plot(x1, y1)\n",
    "# ax.plot(x2, y2)\n",
    "# ax.plot_date(x1, y1, fmt=\"r-\")\n",
    "# plt.grid(True)\n",
    "# ax.plot(x, np.sin(x) + 2 * x + np.random.randn(50))\n",
    "# ax.plot(x, np.sin(x) - 0.5 * x + np.random.randn(50))\n",
    "# ax.plot(x, np.sin(x) - 2 * x + np.random.randn(50))\n",
    "# ax.plot(x, np.sin(x) + np.random.randn(50))\n",
    "# ax.set_title(\"'How Sentiment Scores Change with Time'\")\n",
    "# plt.text(12, 40, r'$Positive$', fontdict=font)\n",
    "# plt.text(15, 2, r'$Negative$', fontdict=font)\n",
    "# plt.ylabel('Counts of Sentiment Replies ', fontdict=font)\n",
    "# plt.show()\n",
    "plt.figure(figsize=(9,6))\n",
    "plt.plot_date(x=x1, y=y1, fmt=\"r-\")\n",
    "# ax.plot_date(x=x2, y=y2, fmt=\"r-\")\n",
    "# ax.plot_date(x=x3, y=y3, fmt=\"r-\")\n",
    "plt.title(\"'How Sentiment Scores Change with Time'\")\n",
    "plt.xlabel('Date', fontdict=font)\n",
    "plt.ylabel(\"Variance\")\n",
    "plt.grid(True)\n",
    "plt.show()"
   ]
  },
  {
   "cell_type": "code",
   "execution_count": 184,
   "metadata": {},
   "outputs": [
    {
     "data": {
      "image/png": "[encoded data removed]",
      "text/plain": [
       "<matplotlib.figure.Figure at 0x28d84368eb8>"
      ]
     },
     "metadata": {},
     "output_type": "display_data"
    }
   ],
   "source": [
    "from matplotlib import pyplot as plt\n",
    "import numpy as np\n",
    "\n",
    "\n",
    "plt.style.use('fivethirtyeight')\n",
    "\n",
    "x1 = dtavgPD['date']\n",
    "y1 = dtavgPD['avg_score']\n",
    "# Fixing random state for reproducibility\n",
    "np.random.seed(19680801)\n",
    "\n",
    "# fig, ax = plt.subplots()\n",
    "font = {'family': 'serif',\n",
    "        'weight': 'normal',\n",
    "        'size': 26,\n",
    "        }\n",
    "# ax.plot(x1, y1)\n",
    "# ax.plot(x2, y2)\n",
    "# ax.plot_date(x1, y1, fmt=\"r-\")\n",
    "# plt.grid(True)\n",
    "# ax.plot(x, np.sin(x) + 2 * x + np.random.randn(50))\n",
    "# ax.plot(x, np.sin(x) - 0.5 * x + np.random.randn(50))\n",
    "# ax.plot(x, np.sin(x) - 2 * x + np.random.randn(50))\n",
    "# ax.plot(x, np.sin(x) + np.random.randn(50))\n",
    "# ax.set_title(\"'How Sentiment Scores Change with Time'\")\n",
    "# plt.text(12, 40, r'$Positive$', fontdict=font)\n",
    "# plt.text(15, 2, r'$Negative$', fontdict=font)\n",
    "# plt.ylabel('Counts of Sentiment Replies ', fontdict=font)\n",
    "# plt.show()\n",
    "plt.figure(figsize=(9,6))\n",
    "plt.plot_date(x=x1, y=y1, fmt=\"r-\")\n",
    "# ax.plot_date(x=x2, y=y2, fmt=\"r-\")\n",
    "# ax.plot_date(x=x3, y=y3, fmt=\"r-\")\n",
    "plt.title(\"'How Sentiment Scores Change with Time'\")\n",
    "plt.xlabel('Date', fontdict=font)\n",
    "plt.ylabel(\"Average\")\n",
    "plt.grid(True)\n",
    "plt.show()"
   ]
  },
  {
   "cell_type": "markdown",
   "metadata": {},
   "source": [
    "## note"
   ]
  },
  {
   "cell_type": "code",
   "execution_count": 196,
   "metadata": {},
   "outputs": [
    {
     "data": {
      "text/plain": [
       "[Row(video_code=14245605, view=88249, favorite=446, coin=273, publish_time='2017-09-07 15:37', category1=\" '游戏'\"),\n",
       " Row(video_code=14245606, view=2145, favorite=372, coin=200, publish_time='2017-09-07 15:27', category1=\" '娱乐'\")]"
      ]
     },
     "execution_count": 196,
     "metadata": {},
     "output_type": "execute_result"
    }
   ],
   "source": [
    "# # scoreDF = spark.createDataFrame(scoreList,['score']) #not work, 1.cannot convert a normal list[1,2] instead:[(1,1),(2,2)] 2.change into int instead of float   \n",
    "# # scoreDF = spark.createDataFrame(scoreList,['score','a'])\n",
    "#导入视频数据、获得列表\n",
    "from pyspark.sql import Row\n",
    "\n",
    "sc = spark.sparkContext\n",
    "# Load a text file and convert each line to a Row.\n",
    "lines = sc.textFile(\"bilivideo.log\")\n",
    "parts = lines.map(lambda l: l.split(\",\"))\n",
    "\n",
    "video_2= parts.map(lambda p: Row(video_url=p[0], video_code=int(p[1]), publish_time=str(p[2])[2:-1], category1=p[3], category2=p[4], video_uploader=p[5],\n",
    "                              uploader_id=p[6], uploader_upload_videos=p[7], up_sex=p[8], up_birth=p[9], up_fans=p[10],\n",
    "                              up_friend=p[11], up_attention=p[12], up_level=p[13], up_plate=p[14], up_pla_level=p[15],up_pla_condition=[16],\n",
    "                              view=int(p[17]),danmaku=int(p[18]),reply=p[19],favorite=int(p[20]),coin=int(p[21]),share=p[22],now_rank=p[23],his_rank=p[24],like_num=p[25],crawl_time=p[26]))\n",
    "schemaVideo_2 = spark.createDataFrame(video_2)\n",
    "schemaVideo_2.createOrReplaceTempView(\"video_2\")\n",
    "#在此增加分析的维度\n",
    "videoDF_2 = spark.sql(\"SELECT video_code,view,favorite,coin,publish_time,category1 FROM video order by video_code\")\n",
    "# videoDF = spark.sql(\"SELECT video_code,view,favorite,coin,publish_time,category1 FROM video order by video_code\")\n",
    "videoDF_2.take(2)"
   ]
  },
  {
   "cell_type": "code",
   "execution_count": 199,
   "metadata": {},
   "outputs": [
    {
     "name": "stdout",
     "output_type": "stream",
     "text": [
      "1677\n",
      "1677\n"
     ]
    }
   ],
   "source": [
    "code_list_1 = videoDF.select(\"video_code\").distinct().rdd.flatMap(lambda x: x).collect()\n",
    "code_list_2 = videoDF_2.select(\"video_code\").distinct().rdd.flatMap(lambda x: x).collect()\n",
    "print(len(code_list_1))\n",
    "print(len(code_list_2))"
   ]
  },
  {
   "cell_type": "code",
   "execution_count": null,
   "metadata": {
    "collapsed": true
   },
   "outputs": [],
   "source": []
  }
 ],
 "metadata": {
  "kernelspec": {
   "display_name": "Python 3",
   "language": "python",
   "name": "python3"
  },
  "language_info": {
   "codemirror_mode": {
    "name": "ipython",
    "version": 3
   },
   "file_extension": ".py",
   "mimetype": "text/x-python",
   "name": "python",
   "nbconvert_exporter": "python",
   "pygments_lexer": "ipython3",
   "version": "3.6.1"
  }
 },
 "nbformat": 4,
 "nbformat_minor": 2
}
