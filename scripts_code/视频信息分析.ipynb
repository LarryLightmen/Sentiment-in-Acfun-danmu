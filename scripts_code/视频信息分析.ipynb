{
 "cells": [
  {
   "cell_type": "code",
   "execution_count": null,
   "metadata": {
    "collapsed": true
   },
   "outputs": [],
   "source": [
    "#找到匹配视频的信息\n",
    "#读取samelist\n",
    "\n",
    "filename = 'sametileurl.txt'\n",
    "file = open(filename)\n",
    "urldict = {}\n",
    "for eachline in file:\n",
    "    oneobs = eachline.strip().split('\\t')\n",
    "    url = oneobs[0]\n",
    "    title = oneobs[1]\n",
    "    if acfundict.get(title)==None:\n",
    "        acfundict[title]=url\n",
    "acfunfile.close()"
   ]
  }
 ],
 "metadata": {
  "kernelspec": {
   "display_name": "Python 3",
   "language": "python",
   "name": "python3"
  },
  "language_info": {
   "codemirror_mode": {
    "name": "ipython",
    "version": 3
   },
   "file_extension": ".py",
   "mimetype": "text/x-python",
   "name": "python",
   "nbconvert_exporter": "python",
   "pygments_lexer": "ipython3",
   "version": "3.6.1"
  }
 },
 "nbformat": 4,
 "nbformat_minor": 2
}
