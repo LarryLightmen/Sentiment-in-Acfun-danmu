{
 "cells": [
  {
   "cell_type": "code",
   "execution_count": 25,
   "metadata": {
    "collapsed": true
   },
   "outputs": [],
   "source": [
    "from pyspark.sql import Row\n",
    "\n",
    "sc = spark.sparkContext\n",
    "# Load a text file and convert each line to a Row.\n",
    "lines = sc.textFile(\"bilivideo.log\")\n",
    "parts = lines.map(lambda l: l.split(\",\"))\n",
    "\n",
    "# ((video_url, video_code, title, publish_time, category1, category2, video_uploader, #8\n",
    "# uploader_id, uploader_upload_videos,up_sex, up_birth,up_fans, #9-13 ~ #5\n",
    "# up_friend, up_attention, up_level, up_plate, up_pla_level,up_pla_condition,  #6\n",
    "# view,danmaku, reply, favorite, coin, share, now_rank, his_rank, like_num, crawl_time)) #10\n",
    "\n",
    "# Load a text file and convert each line to a Row.\n",
    "# video= parts.map(lambda p: Row(video_url=p[0], video_code=int(p[1]), title=p[2], publish_time=p[3], category1=p[4], category2=p[5], video_uploader=p[6],\n",
    "#                               uploader_id=int(p[7]), uploader_upload_videos=int(p[8]), up_sex=p[9], up_birth=p[10], up_fans=int(p[11]),\n",
    "#                               up_friend=int(p[12]), up_attention=int(p[13]), up_level=int(p[14]), up_plate=p[15], up_pla_level=p[16],up_pla_condition=[17],\n",
    "#                               view=int(p[18]),danmaku=int(p[19]),reply=int(p[20]),favorite=int(p[21]),coin=int(p[22]),share=int(p[23]),now_rank=int(p[24]),his_rank=int(p[25]),like_num=int(p[26]),crawl_time=p[27]))\n",
    "\n",
    "video= parts.map(lambda p: Row(video_url=p[0], video_code=int(p[1]), publish_time=p[2], category1=p[3], category2=p[4], video_uploader=p[5],\n",
    "                              uploader_id=p[6], uploader_upload_videos=p[7], up_sex=p[8], up_birth=p[9], up_fans=p[10],\n",
    "                              up_friend=p[11], up_attention=p[12], up_level=p[13], up_plate=p[14], up_pla_level=p[15],up_pla_condition=[16],\n",
    "                              view=int(p[17]),danmaku=int(p[18]),reply=p[19],favorite=p[20],coin=p[21],share=p[22],now_rank=p[23],his_rank=p[24],like_num=p[25],crawl_time=p[26]))"
   ]
  },
  {
   "cell_type": "code",
   "execution_count": 26,
   "metadata": {},
   "outputs": [
    {
     "data": {
      "text/plain": [
       "PythonRDD[46] at RDD at PythonRDD.scala:48"
      ]
     },
     "execution_count": 26,
     "metadata": {},
     "output_type": "execute_result"
    }
   ],
   "source": [
    "video"
   ]
  },
  {
   "cell_type": "code",
   "execution_count": 27,
   "metadata": {},
   "outputs": [],
   "source": [
    "# Infer the schema, and register the DataFrame as a table.\n",
    "schemaVideo = spark.createDataFrame(video)\n"
   ]
  },
  {
   "cell_type": "code",
   "execution_count": 28,
   "metadata": {
    "collapsed": true
   },
   "outputs": [],
   "source": [
    "schemaVideo.createOrReplaceTempView(\"video\")"
   ]
  },
  {
   "cell_type": "code",
   "execution_count": 29,
   "metadata": {},
   "outputs": [
    {
     "data": {
      "text/plain": [
       "DataFrame[category1: string, category2: string, coin: string, crawl_time: string, danmaku: bigint, favorite: string, his_rank: string, like_num: string, now_rank: string, publish_time: string, reply: string, share: string, up_attention: string, up_birth: string, up_fans: string, up_friend: string, up_level: string, up_pla_condition: array<bigint>, up_pla_level: string, up_plate: string, up_sex: string, uploader_id: string, uploader_upload_videos: string, video_code: bigint, video_uploader: string, video_url: string, view: bigint]"
      ]
     },
     "execution_count": 29,
     "metadata": {},
     "output_type": "execute_result"
    }
   ],
   "source": [
    "schemaVideo"
   ]
  },
  {
   "cell_type": "code",
   "execution_count": 34,
   "metadata": {
    "collapsed": true
   },
   "outputs": [],
   "source": [
    "popular = spark.sql(\"SELECT video_code,up_pla_condition,view,danmaku FROM video where view>=88249 AND danmaku>=2000 limit 10\")"
   ]
  },
  {
   "cell_type": "code",
   "execution_count": 35,
   "metadata": {},
   "outputs": [
    {
     "data": {
      "text/plain": [
       "[Row(video_code=14246666, up_pla_condition=[16], view=125536, danmaku=2332),\n",
       " Row(video_code=14247599, up_pla_condition=[16], view=103936, danmaku=2027)]"
      ]
     },
     "execution_count": 35,
     "metadata": {},
     "output_type": "execute_result"
    }
   ],
   "source": [
    "popular.collect()"
   ]
  },
  {
   "cell_type": "code",
   "execution_count": null,
   "metadata": {
    "collapsed": true
   },
   "outputs": [],
   "source": []
  },
  {
   "cell_type": "code",
   "execution_count": null,
   "metadata": {
    "collapsed": true
   },
   "outputs": [],
   "source": []
  }
 ],
 "metadata": {
  "kernelspec": {
   "display_name": "Python 3",
   "language": "python",
   "name": "python3"
  },
  "language_info": {
   "codemirror_mode": {
    "name": "ipython",
    "version": 3
   },
   "file_extension": ".py",
   "mimetype": "text/x-python",
   "name": "python",
   "nbconvert_exporter": "python",
   "pygments_lexer": "ipython3",
   "version": "3.6.1"
  }
 },
 "nbformat": 4,
 "nbformat_minor": 2
}
