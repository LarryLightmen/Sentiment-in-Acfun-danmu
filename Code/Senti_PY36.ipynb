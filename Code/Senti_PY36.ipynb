{
 "cells": [
  {
   "cell_type": "markdown",
   "metadata": {},
   "source": [
    "# 一、SnowNLP"
   ]
  },
  {
   "cell_type": "code",
   "execution_count": 1,
   "metadata": {},
   "outputs": [],
   "source": [
    "with open(\"allacfundanmu_1.txt\", encoding = \"utf-8\") as f:\n",
    "    data = f.read().splitlines()\n",
    "danmulist = []\n",
    "for eachline in data:\n",
    "    oneobs = eachline.split('\\t')\n",
    "    if len(oneobs) == 11:\n",
    "        danmulist.append(oneobs[9])\n",
    "from snownlp import SnowNLP\n",
    "s = SnowNLP(danmulist[0])\n",
    "print(s.words)\n",
    "print(s.sentiments)"
   ]
  },
  {
   "cell_type": "code",
   "execution_count": 4,
   "metadata": {},
   "outputs": [
    {
     "name": "stdout",
     "output_type": "stream",
     "text": [
      "read: 491.772122 s\n"
     ]
    }
   ],
   "source": [
    "from snownlp import SnowNLP\n",
    "import numpy as np\n",
    "import time\n",
    "start = time.clock()\n",
    "#long running\n",
    "def sentclass(text):\n",
    "    s = SnowNLP(text)\n",
    "    return s.sentiments\n",
    "vsentclass = np.vectorize(sentclass)\n",
    "sentilist = vsentclass(danmulist)\n",
    "print(len(sentilist))\n",
    "print(sentilist[0:10])\n",
    "end = time.clock()\n",
    "print(\"runtime: %f s\" % (end - start))\n",
    "#would take 491s to run"
   ]
  },
  {
   "cell_type": "code",
   "execution_count": 6,
   "metadata": {},
   "outputs": [],
   "source": [
    "# from snownlp import SnowNLP\n",
    "# import time\n",
    "# start = time.clock()\n",
    "# #long running\n",
    "# sentilist = []\n",
    "# for dan in danmulist:\n",
    "#     s = SnowNLP(dan)\n",
    "#     sentilist.append(s.sentiments)\n",
    "# print(len(sentilist))\n",
    "# print(sentilist[0:10])\n",
    "# end = time.clock()\n",
    "# print(\"runtime: %f s\" % (end - start))\n",
    "# #would take 581s to run"
   ]
  },
  {
   "cell_type": "code",
   "execution_count": 13,
   "metadata": {},
   "outputs": [
    {
     "data": {
      "text/plain": [
       "array([0, 0, 0, 0, 0, 1, 0, 0, 1, 0])"
      ]
     },
     "execution_count": 13,
     "metadata": {},
     "output_type": "execute_result"
    }
   ],
   "source": [
    "def zero_one(sent):\n",
    "    if sent > 0.5:\n",
    "        return 1\n",
    "    else:\n",
    "        return 0\n",
    "vzero_one = np.vectorize(zero_one)\n",
    "senti = vzero_one(sentilist)\n",
    "# senti[0:10]"
   ]
  },
  {
   "cell_type": "markdown",
   "metadata": {
    "collapsed": true
   },
   "source": [
    "# 二、情感词典"
   ]
  },
  {
   "cell_type": "code",
   "execution_count": 89,
   "metadata": {},
   "outputs": [],
   "source": [
    "import jieba\n",
    "import numpy as np\n",
    "\n",
    "#打开词典文件，返回列表\n",
    "def open_dict(Dict = 'hahah', path=r'/'):\n",
    "    path = path + '%s.txt' % Dict\n",
    "    dictionary = open(path, 'r', encoding='utf-8') #py3\n",
    "    #dictionary = open(path, 'r')\n",
    "    dict = []\n",
    "    for word in dictionary:\n",
    "        word = word.strip('\\n')\n",
    "        dict.append(word)\n",
    "    return dict\n",
    "\n",
    "def judgeodd(num):\n",
    "    if (num % 2) == 0:\n",
    "        return 'even'\n",
    "    else:\n",
    "        return 'odd'\n",
    "\n",
    "deny_word = open_dict(Dict = 'notdoc', path= r'third_examp/')\n",
    "posdict = open_dict(Dict = 'positive', path= r'third_examp/')\n",
    "negdict = open_dict(Dict = 'negative', path= r'third_examp/')\n",
    "\n",
    "degree_word = open_dict(Dict = 'degreedoc', path= r'third_examp/')\n",
    "mostdict = degree_word[degree_word.index('extreme')+1 : degree_word.index('very')]#权重4，即在情感词前乘以4\n",
    "verydict = degree_word[degree_word.index('very')+1 : degree_word.index('more')]#权重3\n",
    "moredict = degree_word[degree_word.index('more')+1 : degree_word.index('ish')]#权重2\n",
    "ishdict = degree_word[degree_word.index('ish')+1 : degree_word.index('last')]#权重0.5\n",
    "\n",
    "# def print_basics(dictl):\n",
    "#     print(type(dictl))\n",
    "#     print(len(dictl))\n",
    "#     print(dictl[0])\n",
    "#     print(dictl[1])\n",
    "# print_basics(degree_word)\n",
    "# print_basics(mostdict)\n",
    "# print_basics(verydict)\n",
    "# print_basics(moredict)\n",
    "# print_basics(ishdict)\n",
    "def sentiment_score_list(dataset):\n",
    "    seg_sentence = dataset.split('。')\n",
    "    count1 = []\n",
    "    count2 = []\n",
    "    for sen in seg_sentence: #循环遍历每一个评论\n",
    "        segtmp = jieba.lcut(sen, cut_all=False)  #把句子进行分词，以列表的形式返回\n",
    "        i = 0 #记录扫描到的词的位置\n",
    "        a = 0 #记录情感词的位置\n",
    "        poscount = 0 #积极词的第一次分值\n",
    "        poscount2 = 0 #积极词反转后的分值\n",
    "        poscount3 = 0 #积极词的最后分值（包括叹号的分值）\n",
    "        negcount = 0\n",
    "        negcount2 = 0\n",
    "        negcount3 = 0\n",
    "        for word in segtmp:\n",
    "            if word in posdict:  # 判断词语是否是情感词\n",
    "                poscount += 1\n",
    "                c = 0\n",
    "                for w in segtmp[a:i]:  # 扫描情感词前的程度词\n",
    "                    if w in mostdict:\n",
    "                        poscount *= 4.0\n",
    "                    elif w in verydict:\n",
    "                        poscount *= 3.0\n",
    "                    elif w in moredict:\n",
    "                        poscount *= 2.0\n",
    "                    elif w in ishdict:\n",
    "                        poscount *= 0.5\n",
    "                    elif w in deny_word:\n",
    "                        c += 1\n",
    "                if judgeodd(c) == 'odd':  # 扫描情感词前的否定词数\n",
    "                    poscount *= -1.0\n",
    "                    poscount2 += poscount\n",
    "                    poscount = 0\n",
    "                    poscount3 = poscount + poscount2 + poscount3\n",
    "                    poscount2 = 0\n",
    "                else:\n",
    "                    poscount3 = poscount + poscount2 + poscount3\n",
    "                    poscount = 0\n",
    "                a = i + 1  # 情感词的位置变化\n",
    "\n",
    "            elif word in negdict:  # 消极情感的分析，与上面一致\n",
    "                negcount += 1\n",
    "                d = 0\n",
    "                for w in segtmp[a:i]:\n",
    "                    if w in mostdict:\n",
    "                        negcount *= 4.0\n",
    "                    elif w in verydict:\n",
    "                        negcount *= 3.0\n",
    "                    elif w in moredict:\n",
    "                        negcount *= 2.0\n",
    "                    elif w in ishdict:\n",
    "                        negcount *= 0.5\n",
    "                    elif w in degree_word:\n",
    "                        d += 1\n",
    "                if judgeodd(d) == 'odd':\n",
    "                    negcount *= -1.0\n",
    "                    negcount2 += negcount\n",
    "                    negcount = 0\n",
    "                    negcount3 = negcount + negcount2 + negcount3\n",
    "                    negcount2 = 0\n",
    "                else:\n",
    "                    negcount3 = negcount + negcount2 + negcount3\n",
    "                    negcount = 0\n",
    "                a = i + 1\n",
    "            elif word == '！' or word == '!':  ##判断句子是否有感叹号\n",
    "                for w2 in segtmp[::-1]:  # 扫描感叹号前的情感词，发现后权值+2，然后退出循环\n",
    "                    if w2 in posdict or negdict:\n",
    "                        poscount3 += 2\n",
    "                        negcount3 += 2\n",
    "                        break\n",
    "            i += 1 # 扫描词位置前移\n",
    "\n",
    "            # 以下是防止出现负数的情况\n",
    "            pos_count = 0\n",
    "            neg_count = 0\n",
    "            if poscount3 < 0 and negcount3 > 0:\n",
    "                neg_count += negcount3 - poscount3\n",
    "                pos_count = 0\n",
    "            elif negcount3 < 0 and poscount3 > 0:\n",
    "                pos_count = poscount3 - negcount3\n",
    "                neg_count = 0\n",
    "            elif poscount3 < 0 and negcount3 < 0:\n",
    "                neg_count = -poscount3\n",
    "                pos_count = -negcount3\n",
    "            else:\n",
    "                pos_count = poscount3\n",
    "                neg_count = negcount3\n",
    "\n",
    "            count1.append([pos_count, neg_count])\n",
    "        count2.append(count1)\n",
    "        count1 = []\n",
    "    return count2\n",
    "\n",
    "def sentiment_score(senti_score_list):\n",
    "    score = []\n",
    "    for review in senti_score_list:\n",
    "        score_array = np.array(review)\n",
    "        Pos = np.sum(score_array[:, 0])\n",
    "        Neg = np.sum(score_array[:, 1])\n",
    "        AvgPos = np.mean(score_array[:, 0])\n",
    "        AvgPos = float('%.1f'%AvgPos)\n",
    "        AvgNeg = np.mean(score_array[:, 1])\n",
    "        AvgNeg = float('%.1f'%AvgNeg)\n",
    "        StdPos = np.std(score_array[:, 0])\n",
    "        StdPos = float('%.1f'%StdPos)\n",
    "        StdNeg = np.std(score_array[:, 1])\n",
    "        StdNeg = float('%.1f'%StdNeg)\n",
    "        #score.append([Pos, Neg, AvgPos, AvgNeg, StdPos, StdNeg])\n",
    "        score.append([Pos, Neg])\n",
    "\n",
    "    return score"
   ]
  },
  {
   "cell_type": "code",
   "execution_count": 38,
   "metadata": {},
   "outputs": [
    {
     "data": {
      "text/plain": [
       "['你们只是一群伴舞的', 'tdgsgl']"
      ]
     },
     "execution_count": 38,
     "metadata": {},
     "output_type": "execute_result"
    }
   ],
   "source": [
    "danmulist[0:2]"
   ]
  },
  {
   "cell_type": "code",
   "execution_count": 92,
   "metadata": {},
   "outputs": [
    {
     "name": "stdout",
     "output_type": "stream",
     "text": [
      "[78.0, 169.0]\n",
      "[327.0, 30.0]\n"
     ]
    }
   ],
   "source": [
    "# data = '你就是个王八蛋，混账玩意!你们的手机真不好用！非常生气，我非常郁闷！！！！'\n",
    "# data2= '我好开心啊，非常非常非常高兴！今天我得了一百分，我很兴奋开心，愉快，开心'\n",
    "# sli = []\n",
    "# for da in [data,data2]:\n",
    "#     daa = sentiment_score(sentiment_score_list(da))[0]\n",
    "#     print(sentiment_score(sentiment_score_list(da))[0])\n",
    "#     sli.append(daa)\n",
    "# sentilist2 = []\n",
    "# for da in danmulist[3]:\n",
    "#     daa = sentiment_score(sentiment_score_list(da))[0]\n",
    "#     sentilist2.append(daa)\n",
    "#     print(daa)"
   ]
  },
  {
   "cell_type": "code",
   "execution_count": 44,
   "metadata": {
    "scrolled": true
   },
   "outputs": [],
   "source": [
    "sentilist2 = []\n",
    "for da in danmulist[0:2]:\n",
    "    daa = sentiment_score(sentiment_score_list(da))[0]\n",
    "    sentilist2.append(daa)"
   ]
  },
  {
   "cell_type": "code",
   "execution_count": 26,
   "metadata": {},
   "outputs": [],
   "source": [
    "def dict_classif_list(data):\n",
    "    scli = sentiment_score(sentiment_score_list(data))\n",
    "    return scli\n",
    "# vdict_classif_list = np.vectorize(dict_classif_list)\n",
    "def dict_classif(data):\n",
    "    scli = sentiment_score(sentiment_score_list(data))\n",
    "    if scli[0][0] > scli[0][1]:\n",
    "        return 1\n",
    "    else:\n",
    "        return 0\n",
    "# dict_classif(data2)\n",
    "# vdict_classif = np.vectorize(dict_classif)"
   ]
  },
  {
   "cell_type": "code",
   "execution_count": 95,
   "metadata": {},
   "outputs": [
    {
     "name": "stdout",
     "output_type": "stream",
     "text": [
      "240570\n",
      "[[0, 0], [0, 0], [0, 0], [19.0, 0.0], [0, 0], [0, 0], [0.0, 0.0], [5, 4], [0, 0], [2, 2]]\n",
      "runtime: 481.329346 s\n"
     ]
    }
   ],
   "source": [
    "#generate sentilist2\n",
    "start = time.clock()\n",
    "#long running\n",
    "# sentilist2 = vdict_classif_list(danmulist)  #fail to do this\n",
    "sentilist2 = []\n",
    "for da in danmulist:\n",
    "    try:\n",
    "        daa = sentiment_score(sentiment_score_list(da))[0]\n",
    "        sentilist2.append(daa)\n",
    "    except:\n",
    "        daa = [0.0,0.0]\n",
    "        sentilist2.append(daa)\n",
    "print(len(sentilist2))\n",
    "print(sentilist2[0:10])\n",
    "end = time.clock()\n",
    "print(\"runtime: %f s\" % (end - start))\n",
    "#would take 481s to run"
   ]
  },
  {
   "cell_type": "code",
   "execution_count": 96,
   "metadata": {},
   "outputs": [
    {
     "name": "stdout",
     "output_type": "stream",
     "text": [
      "240570\n",
      "[0, 0, 0, 1, 0, 0, 0, 1, 0, 0]\n",
      "runtime: 676.138989 s\n"
     ]
    }
   ],
   "source": [
    "#generate senti2\n",
    "start = time.clock()\n",
    "#long running\n",
    "# senti2 = vdict_classif(danmulist)\n",
    "senti2 = []\n",
    "for da in danmulist:\n",
    "    try:\n",
    "        daa = dict_classif(da)\n",
    "        senti2.append(daa)\n",
    "    except:\n",
    "        daa = 0\n",
    "        senti2.append(daa)\n",
    "print(len(senti2))\n",
    "print(senti2[0:10])\n",
    "end = time.clock()\n",
    "print(\"runtime: %f s\" % (end - start))\n",
    "#would take 676s to run"
   ]
  },
  {
   "cell_type": "code",
   "execution_count": 97,
   "metadata": {},
   "outputs": [
    {
     "name": "stdout",
     "output_type": "stream",
     "text": [
      "我好开心啊，非常非常非常高兴！今天我得了一百分，我很兴奋开心，愉快，开心\n",
      "[327.0, 30.0]\n",
      "['我', '好', '开心', '啊', '，', '非常', '非常', '非常', '高兴', '！', '今天', '我得', '了', '一', '百分', '，', '我', '很', '兴奋', '开心', '，', '愉快', '，', '开心']\n",
      "0.9972150181179313\n"
     ]
    }
   ],
   "source": [
    "#观察1\n",
    "da = '我好开心啊，非常非常非常高兴！今天我得了一百分，我很兴奋开心，愉快，开心'\n",
    "# da = danmulist[24]\n",
    "print(da)\n",
    "daa = sentiment_score(sentiment_score_list(da))[0]\n",
    "print(daa)\n",
    "s = SnowNLP(da)\n",
    "print(s.words)\n",
    "print(s.sentiments)"
   ]
  },
  {
   "cell_type": "code",
   "execution_count": 90,
   "metadata": {},
   "outputs": [
    {
     "name": "stdout",
     "output_type": "stream",
     "text": [
      "话说龙皇有，电精，西游，三国没有吗？\n",
      "[0, 3]\n",
      "['话说', '龙', '皇', '有', '，', '电', '精', '，', '西游', '，', '三', '国', '没有', '吗', '？']\n",
      "0.9492494945275206\n"
     ]
    }
   ],
   "source": [
    "#观察2\n",
    "# da = danmulist[23]\n",
    "# print(da)\n",
    "# daa = sentiment_score(sentiment_score_list(da))[0]\n",
    "# print(daa)\n",
    "# s = SnowNLP(da)\n",
    "# print(s.words)\n",
    "# print(s.sentiments)"
   ]
  },
  {
   "cell_type": "code",
   "execution_count": 84,
   "metadata": {
    "scrolled": true
   },
   "outputs": [
    {
     "name": "stdout",
     "output_type": "stream",
     "text": [
      "SFC，魂斗罗\n",
      "[0, 0, 0.0, 0.0, 0.0, 0.0]\n",
      "['SFC，', '魂斗', '罗']\n",
      "0.8140197014093804\n"
     ]
    }
   ],
   "source": [
    "#观察3\n",
    "# da = danmulist[19]\n",
    "# print(da)\n",
    "# daa = sentiment_score(sentiment_score_list(da))[0]\n",
    "# print(daa)\n",
    "# s = SnowNLP(da)\n",
    "# print(s.words)\n",
    "# print(s.sentiments)"
   ]
  },
  {
   "cell_type": "markdown",
   "metadata": {},
   "source": [
    "# 三、"
   ]
  },
  {
   "cell_type": "code",
   "execution_count": 15,
   "metadata": {},
   "outputs": [
    {
     "name": "stdout",
     "output_type": "stream",
     "text": [
      "240570\n",
      "240570\n",
      "240570\n"
     ]
    }
   ],
   "source": [
    "#videocode, danmulist, sentitlist, sentilist2, senti, senti2\n",
    "print(len(danmulist))\n",
    "print(len(sentilist))\n",
    "print(len(senti))\n",
    "print(len(sentilist2))\n",
    "print(len(senti2))"
   ]
  },
  {
   "cell_type": "code",
   "execution_count": null,
   "metadata": {},
   "outputs": [],
   "source": []
  },
  {
   "cell_type": "code",
   "execution_count": null,
   "metadata": {},
   "outputs": [],
   "source": []
  },
  {
   "cell_type": "code",
   "execution_count": null,
   "metadata": {},
   "outputs": [],
   "source": []
  },
  {
   "cell_type": "code",
   "execution_count": null,
   "metadata": {},
   "outputs": [],
   "source": []
  },
  {
   "cell_type": "code",
   "execution_count": null,
   "metadata": {},
   "outputs": [],
   "source": []
  },
  {
   "cell_type": "code",
   "execution_count": null,
   "metadata": {},
   "outputs": [],
   "source": []
  },
  {
   "cell_type": "code",
   "execution_count": null,
   "metadata": {},
   "outputs": [],
   "source": []
  },
  {
   "cell_type": "code",
   "execution_count": null,
   "metadata": {},
   "outputs": [],
   "source": []
  },
  {
   "cell_type": "code",
   "execution_count": null,
   "metadata": {},
   "outputs": [],
   "source": []
  },
  {
   "cell_type": "code",
   "execution_count": null,
   "metadata": {},
   "outputs": [],
   "source": []
  },
  {
   "cell_type": "code",
   "execution_count": null,
   "metadata": {},
   "outputs": [],
   "source": []
  },
  {
   "cell_type": "code",
   "execution_count": null,
   "metadata": {},
   "outputs": [],
   "source": []
  }
 ],
 "metadata": {
  "kernelspec": {
   "display_name": "Python 3",
   "language": "python",
   "name": "python3"
  },
  "language_info": {
   "codemirror_mode": {
    "name": "ipython",
    "version": 3
   },
   "file_extension": ".py",
   "mimetype": "text/x-python",
   "name": "python",
   "nbconvert_exporter": "python",
   "pygments_lexer": "ipython3",
   "version": "3.6.1rc1"
  }
 },
 "nbformat": 4,
 "nbformat_minor": 2
}
